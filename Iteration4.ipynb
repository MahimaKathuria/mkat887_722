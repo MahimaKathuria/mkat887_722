{
 "cells": [
  {
   "cell_type": "code",
   "execution_count": 1,
   "metadata": {},
   "outputs": [],
   "source": [
    "import findspark\n",
    "findspark.init('/home/ubuntu/spark-2.1.1-bin-hadoop2.7')\n",
    "import pyspark\n",
    "from pyspark.sql import SparkSession\n",
    "spark = SparkSession.builder.appName('operations').getOrCreate()"
   ]
  },
  {
   "cell_type": "code",
   "execution_count": 2,
   "metadata": {},
   "outputs": [
    {
     "name": "stdout",
     "output_type": "stream",
     "text": [
      "root\n",
      " |-- id: integer (nullable = true)\n",
      " |-- gender: string (nullable = true)\n",
      " |-- age: double (nullable = true)\n",
      " |-- hypertension: integer (nullable = true)\n",
      " |-- heart_disease: integer (nullable = true)\n",
      " |-- ever_married: string (nullable = true)\n",
      " |-- work_type: string (nullable = true)\n",
      " |-- Residence_type: string (nullable = true)\n",
      " |-- avg_glucose_level: double (nullable = true)\n",
      " |-- bmi: double (nullable = true)\n",
      " |-- smoking_status: string (nullable = true)\n",
      "\n",
      "root\n",
      " |-- id: integer (nullable = true)\n",
      " |-- gender: string (nullable = true)\n",
      " |-- age: double (nullable = true)\n",
      " |-- hypertension: integer (nullable = true)\n",
      " |-- heart_disease: integer (nullable = true)\n",
      " |-- ever_married: string (nullable = true)\n",
      " |-- work_type: string (nullable = true)\n",
      " |-- Residence_type: string (nullable = true)\n",
      " |-- avg_glucose_level: double (nullable = true)\n",
      " |-- bmi: double (nullable = true)\n",
      " |-- smoking_status: string (nullable = true)\n",
      "\n"
     ]
    }
   ],
   "source": [
    "#Loading datasets\n",
    "dataset1 = spark.read.csv('Datasets/traindataset.csv', inferSchema=True, header=True)\n",
    "dataset2 = spark.read.csv('Datasets/testdataset.csv', inferSchema=True, header=True)\n",
    "#Printing the types of attributes\n",
    "dataset1.printSchema()\n",
    "dataset2.printSchema()"
   ]
  },
  {
   "cell_type": "code",
   "execution_count": 3,
   "metadata": {},
   "outputs": [
    {
     "name": "stdout",
     "output_type": "stream",
     "text": [
      "+-----+------+----+------------+-------------+------------+-------------+--------------+-----------------+----+---------------+\n",
      "|   id|gender| age|hypertension|heart_disease|ever_married|    work_type|Residence_type|avg_glucose_level| bmi| smoking_status|\n",
      "+-----+------+----+------------+-------------+------------+-------------+--------------+-----------------+----+---------------+\n",
      "|30669|  Male| 3.0|           0|            0|          No|     children|         Rural|            95.12|18.0|           null|\n",
      "|30468|  Male|58.0|           1|            0|         Yes|      Private|         Urban|            87.96|39.2|   never smoked|\n",
      "|16523|Female| 8.0|           0|            0|          No|      Private|         Urban|           110.89|17.6|           null|\n",
      "|56543|Female|70.0|           0|            0|         Yes|      Private|         Rural|            69.04|35.9|formerly smoked|\n",
      "|46136|  Male|14.0|           0|            0|          No| Never_worked|         Rural|           161.28|19.1|           null|\n",
      "|32257|Female|47.0|           0|            0|         Yes|      Private|         Urban|           210.95|50.1|           null|\n",
      "|52800|Female|52.0|           0|            0|         Yes|      Private|         Urban|            77.59|17.7|formerly smoked|\n",
      "|41413|Female|75.0|           0|            1|         Yes|Self-employed|         Rural|           243.53|27.0|   never smoked|\n",
      "|15266|Female|32.0|           0|            0|         Yes|      Private|         Rural|            77.67|32.3|         smokes|\n",
      "|28674|Female|74.0|           1|            0|         Yes|Self-employed|         Urban|           205.84|54.6|   never smoked|\n",
      "|10460|Female|79.0|           0|            0|         Yes|     Govt_job|         Urban|            77.08|35.0|           null|\n",
      "|64908|  Male|79.0|           0|            1|         Yes|      Private|         Urban|            57.08|22.0|formerly smoked|\n",
      "|63884|Female|37.0|           0|            0|         Yes|      Private|         Rural|           162.96|39.4|   never smoked|\n",
      "|37893|Female|37.0|           0|            0|         Yes|      Private|         Rural|             73.5|26.1|formerly smoked|\n",
      "|67855|Female|40.0|           0|            0|         Yes|      Private|         Rural|            95.04|42.4|   never smoked|\n",
      "|25774|  Male|35.0|           0|            0|          No|      Private|         Rural|            85.37|33.0|   never smoked|\n",
      "|19584|Female|20.0|           0|            0|          No|      Private|         Urban|            84.62|19.7|         smokes|\n",
      "|24447|Female|42.0|           0|            0|         Yes|      Private|         Rural|            82.67|22.5|   never smoked|\n",
      "|49589|Female|44.0|           0|            0|         Yes|     Govt_job|         Urban|            57.33|24.6|         smokes|\n",
      "|17986|Female|79.0|           0|            1|         Yes|Self-employed|         Urban|            67.84|25.2|         smokes|\n",
      "+-----+------+----+------------+-------------+------------+-------------+--------------+-----------------+----+---------------+\n",
      "only showing top 20 rows\n",
      "\n",
      "+-----+------+----+------------+-------------+------------+-------------+--------------+-----------------+----+---------------+\n",
      "|   id|gender| age|hypertension|heart_disease|ever_married|    work_type|Residence_type|avg_glucose_level| bmi| smoking_status|\n",
      "+-----+------+----+------------+-------------+------------+-------------+--------------+-----------------+----+---------------+\n",
      "|36306|  Male|80.0|           0|            0|         Yes|      Private|         Urban|            83.84|21.1|formerly smoked|\n",
      "|61829|Female|74.0|           0|            1|         Yes|Self-employed|         Rural|            179.5|26.0|formerly smoked|\n",
      "|14152|Female|14.0|           0|            0|          No|     children|         Rural|            95.16|21.2|           null|\n",
      "|12997|  Male|28.0|           0|            0|          No|      Private|         Urban|            94.76|23.4|           null|\n",
      "|40801|Female|63.0|           0|            0|         Yes|     Govt_job|         Rural|            83.57|27.6|   never smoked|\n",
      "| 9348|Female|66.0|           1|            0|         Yes|      Private|         Urban|           219.98|32.2|   never smoked|\n",
      "|51550|Female|49.0|           0|            0|         Yes|Self-employed|         Rural|            74.03|25.1|           null|\n",
      "|60512|  Male|46.0|           0|            0|         Yes|     Govt_job|         Urban|            120.8|32.5|   never smoked|\n",
      "|31309|Female|75.0|           0|            0|         Yes|Self-employed|         Rural|            78.71|28.0|   never smoked|\n",
      "|39199|  Male|75.0|           0|            0|         Yes|Self-employed|         Urban|             77.2|25.7|         smokes|\n",
      "|15160|Female|17.0|           0|            0|          No|      Private|         Rural|            78.16|21.9|           null|\n",
      "|21705|Female|10.0|           0|            0|          No|     children|         Urban|           107.23|19.4|           null|\n",
      "|19042|Female|47.0|           0|            0|         Yes|      Private|         Rural|             91.6|26.7|   never smoked|\n",
      "|12249|Female|42.0|           0|            0|         Yes|      Private|         Urban|            83.05|32.3|           null|\n",
      "|33104|Female|67.0|           0|            0|         Yes|     Govt_job|         Urban|            236.6|24.2|   never smoked|\n",
      "|55264|Female|52.0|           0|            0|          No|Self-employed|         Urban|           109.49|24.5|   never smoked|\n",
      "|29445|  Male|73.0|           0|            0|         Yes|Self-employed|         Rural|           109.66|40.0|           null|\n",
      "|49013|Female|19.0|           0|            0|          No|      Private|         Rural|            88.51|22.1|           null|\n",
      "|  276|  Male|15.0|           0|            0|          No|     children|         Rural|           101.36|22.3|           null|\n",
      "|47721|Female|37.0|           0|            0|         Yes|     Govt_job|         Urban|           165.44|36.1|formerly smoked|\n",
      "+-----+------+----+------------+-------------+------------+-------------+--------------+-----------------+----+---------------+\n",
      "only showing top 20 rows\n",
      "\n"
     ]
    }
   ],
   "source": [
    "#Displaying datasets\n",
    "dataset1.show()\n",
    "dataset2.show()"
   ]
  },
  {
   "cell_type": "code",
   "execution_count": 4,
   "metadata": {},
   "outputs": [
    {
     "data": {
      "text/plain": [
       "43400"
      ]
     },
     "execution_count": 4,
     "metadata": {},
     "output_type": "execute_result"
    }
   ],
   "source": [
    "#Counting number of rows of dataset1\n",
    "dataset1.count()"
   ]
  },
  {
   "cell_type": "code",
   "execution_count": 5,
   "metadata": {},
   "outputs": [
    {
     "data": {
      "text/plain": [
       "11"
      ]
     },
     "execution_count": 5,
     "metadata": {},
     "output_type": "execute_result"
    }
   ],
   "source": [
    "#Counting number of columns of dataset1\n",
    "len(dataset1.columns)"
   ]
  },
  {
   "cell_type": "code",
   "execution_count": 6,
   "metadata": {},
   "outputs": [
    {
     "data": {
      "text/plain": [
       "18601"
      ]
     },
     "execution_count": 6,
     "metadata": {},
     "output_type": "execute_result"
    }
   ],
   "source": [
    "#Counting number of rows of dataset2\n",
    "dataset2.count()"
   ]
  },
  {
   "cell_type": "code",
   "execution_count": 7,
   "metadata": {},
   "outputs": [
    {
     "data": {
      "text/plain": [
       "11"
      ]
     },
     "execution_count": 7,
     "metadata": {},
     "output_type": "execute_result"
    }
   ],
   "source": [
    "#Counting number of columns of dataset2\n",
    "len(dataset2.columns)"
   ]
  },
  {
   "cell_type": "code",
   "execution_count": 8,
   "metadata": {},
   "outputs": [
    {
     "name": "stdout",
     "output_type": "stream",
     "text": [
      "+-----+------+----+------------+-------------+------------+-------------+--------------+-----------------+----+---------------+\n",
      "|   id|gender| age|hypertension|heart_disease|ever_married|    work_type|Residence_type|avg_glucose_level| bmi| smoking_status|\n",
      "+-----+------+----+------------+-------------+------------+-------------+--------------+-----------------+----+---------------+\n",
      "|30669|  Male| 3.0|           0|            0|          No|     children|         Rural|            95.12|18.0|           null|\n",
      "|30468|  Male|58.0|           1|            0|         Yes|      Private|         Urban|            87.96|39.2|   never smoked|\n",
      "|16523|Female| 8.0|           0|            0|          No|      Private|         Urban|           110.89|17.6|           null|\n",
      "|56543|Female|70.0|           0|            0|         Yes|      Private|         Rural|            69.04|35.9|formerly smoked|\n",
      "|46136|  Male|14.0|           0|            0|          No| Never_worked|         Rural|           161.28|19.1|           null|\n",
      "|32257|Female|47.0|           0|            0|         Yes|      Private|         Urban|           210.95|50.1|           null|\n",
      "|52800|Female|52.0|           0|            0|         Yes|      Private|         Urban|            77.59|17.7|formerly smoked|\n",
      "|41413|Female|75.0|           0|            1|         Yes|Self-employed|         Rural|           243.53|27.0|   never smoked|\n",
      "|15266|Female|32.0|           0|            0|         Yes|      Private|         Rural|            77.67|32.3|         smokes|\n",
      "|28674|Female|74.0|           1|            0|         Yes|Self-employed|         Urban|           205.84|54.6|   never smoked|\n",
      "|10460|Female|79.0|           0|            0|         Yes|     Govt_job|         Urban|            77.08|35.0|           null|\n",
      "|64908|  Male|79.0|           0|            1|         Yes|      Private|         Urban|            57.08|22.0|formerly smoked|\n",
      "|63884|Female|37.0|           0|            0|         Yes|      Private|         Rural|           162.96|39.4|   never smoked|\n",
      "|37893|Female|37.0|           0|            0|         Yes|      Private|         Rural|             73.5|26.1|formerly smoked|\n",
      "|67855|Female|40.0|           0|            0|         Yes|      Private|         Rural|            95.04|42.4|   never smoked|\n",
      "|25774|  Male|35.0|           0|            0|          No|      Private|         Rural|            85.37|33.0|   never smoked|\n",
      "|19584|Female|20.0|           0|            0|          No|      Private|         Urban|            84.62|19.7|         smokes|\n",
      "|24447|Female|42.0|           0|            0|         Yes|      Private|         Rural|            82.67|22.5|   never smoked|\n",
      "|49589|Female|44.0|           0|            0|         Yes|     Govt_job|         Urban|            57.33|24.6|         smokes|\n",
      "|17986|Female|79.0|           0|            1|         Yes|Self-employed|         Urban|            67.84|25.2|         smokes|\n",
      "+-----+------+----+------------+-------------+------------+-------------+--------------+-----------------+----+---------------+\n",
      "only showing top 20 rows\n",
      "\n"
     ]
    }
   ],
   "source": [
    "#Appending two datasets\n",
    "concat = dataset1.union(dataset2)\n",
    "concat.show()"
   ]
  },
  {
   "cell_type": "code",
   "execution_count": 9,
   "metadata": {},
   "outputs": [
    {
     "data": {
      "text/plain": [
       "62001"
      ]
     },
     "execution_count": 9,
     "metadata": {},
     "output_type": "execute_result"
    }
   ],
   "source": [
    "#Counting number of rows of the merged dataset\n",
    "concat.count()"
   ]
  },
  {
   "cell_type": "code",
   "execution_count": 10,
   "metadata": {},
   "outputs": [
    {
     "data": {
      "text/plain": [
       "11"
      ]
     },
     "execution_count": 10,
     "metadata": {},
     "output_type": "execute_result"
    }
   ],
   "source": [
    "#Counting number of columns of the merged dataset\n",
    "len(concat.columns)"
   ]
  },
  {
   "cell_type": "code",
   "execution_count": 11,
   "metadata": {},
   "outputs": [
    {
     "name": "stdout",
     "output_type": "stream",
     "text": [
      "+------+-----+\n",
      "|gender|count|\n",
      "+------+-----+\n",
      "|Female|36622|\n",
      "| Other|   13|\n",
      "|  Male|25366|\n",
      "+------+-----+\n",
      "\n"
     ]
    }
   ],
   "source": [
    "#Counting number of records in each type of attribute gender\n",
    "concat.groupby('gender').count().show()"
   ]
  },
  {
   "cell_type": "code",
   "execution_count": 12,
   "metadata": {},
   "outputs": [
    {
     "name": "stdout",
     "output_type": "stream",
     "text": [
      "+------------+-----+\n",
      "|hypertension|count|\n",
      "+------------+-----+\n",
      "|           1| 5794|\n",
      "|           0|56207|\n",
      "+------------+-----+\n",
      "\n"
     ]
    }
   ],
   "source": [
    "#Counting number of records in each type of attribute hypertension\n",
    "concat.groupby('hypertension').count().show()"
   ]
  },
  {
   "cell_type": "code",
   "execution_count": 13,
   "metadata": {},
   "outputs": [
    {
     "name": "stdout",
     "output_type": "stream",
     "text": [
      "+-------------+-----+\n",
      "|    work_type|count|\n",
      "+-------------+-----+\n",
      "| Never_worked|  252|\n",
      "|Self-employed| 9654|\n",
      "|      Private|35584|\n",
      "|     children| 8769|\n",
      "|     Govt_job| 7742|\n",
      "+-------------+-----+\n",
      "\n"
     ]
    }
   ],
   "source": [
    "#Counting number of records in each type of attribute work_type\n",
    "concat.groupby('work_type').count().show()"
   ]
  },
  {
   "cell_type": "code",
   "execution_count": 14,
   "metadata": {},
   "outputs": [
    {
     "name": "stdout",
     "output_type": "stream",
     "text": [
      "+--------------+-----+\n",
      "|residence_type|count|\n",
      "+--------------+-----+\n",
      "|         Urban|31066|\n",
      "|         Rural|30935|\n",
      "+--------------+-----+\n",
      "\n"
     ]
    }
   ],
   "source": [
    "#Counting number of records in each type of attribute residence_type\n",
    "concat.groupby('residence_type').count().show()"
   ]
  },
  {
   "cell_type": "code",
   "execution_count": 15,
   "metadata": {},
   "outputs": [
    {
     "name": "stdout",
     "output_type": "stream",
     "text": [
      "+------------+-----+\n",
      "|ever_married|count|\n",
      "+------------+-----+\n",
      "|          No|22124|\n",
      "|         Yes|39877|\n",
      "+------------+-----+\n",
      "\n"
     ]
    }
   ],
   "source": [
    "#Counting number of records in each type of attribute ever_married\n",
    "concat.groupby('ever_married').count().show()"
   ]
  },
  {
   "cell_type": "code",
   "execution_count": 16,
   "metadata": {},
   "outputs": [
    {
     "name": "stdout",
     "output_type": "stream",
     "text": [
      "+---------------+-----+\n",
      "| smoking_status|count|\n",
      "+---------------+-----+\n",
      "|           null|19043|\n",
      "|         smokes| 9319|\n",
      "|   never smoked|22886|\n",
      "|formerly smoked|10753|\n",
      "+---------------+-----+\n",
      "\n"
     ]
    }
   ],
   "source": [
    "#Counting number of records in each type of attribute smoking_status\n",
    "concat.groupby('smoking_status').count().show()"
   ]
  },
  {
   "cell_type": "code",
   "execution_count": 17,
   "metadata": {},
   "outputs": [
    {
     "name": "stdout",
     "output_type": "stream",
     "text": [
      "+-------------+-----+\n",
      "|heart_disease|count|\n",
      "+-------------+-----+\n",
      "|            1| 2956|\n",
      "|            0|59045|\n",
      "+-------------+-----+\n",
      "\n"
     ]
    }
   ],
   "source": [
    "#Counting number of records in each type of attribute heart_disease\n",
    "concat.groupby('heart_disease').count().show()"
   ]
  },
  {
   "cell_type": "code",
   "execution_count": 18,
   "metadata": {},
   "outputs": [
    {
     "name": "stdout",
     "output_type": "stream",
     "text": [
      "+-------+-----------------+------+------------------+-------------------+-------------------+------------+---------+--------------+-----------------+-----------------+---------------+\n",
      "|summary|               id|gender|               age|       hypertension|      heart_disease|ever_married|work_type|Residence_type|avg_glucose_level|              bmi| smoking_status|\n",
      "+-------+-----------------+------+------------------+-------------------+-------------------+------------+---------+--------------+-----------------+-----------------+---------------+\n",
      "|  count|            62001| 62001|             62001|              62001|              62001|       62001|    62001|         62001|            62001|            59948|          42958|\n",
      "|   mean|36452.51481427719|  null|42.169475331042975|0.09345010564345736|0.04767665037660683|        null|     null|          null| 104.453831712391| 28.5870988189766|           null|\n",
      "| stddev|21067.15594488889|  null|22.522099535371346| 0.2910645114143387|0.21308289396711122|        null|     null|          null| 42.9605371949353|7.766122190731495|           null|\n",
      "|    min|                1|Female|              0.08|                  0|                  0|          No| Govt_job|         Rural|             55.0|             10.1|formerly smoked|\n",
      "|    max|            72943| Other|              82.0|                  1|                  1|         Yes| children|         Urban|           291.05|             97.6|         smokes|\n",
      "+-------+-----------------+------+------------------+-------------------+-------------------+------------+---------+--------------+-----------------+-----------------+---------------+\n",
      "\n"
     ]
    }
   ],
   "source": [
    "#Statistical summary of data\n",
    "concat.describe().show()"
   ]
  },
  {
   "cell_type": "code",
   "execution_count": 19,
   "metadata": {},
   "outputs": [
    {
     "name": "stdout",
     "output_type": "stream",
     "text": [
      "+--------------------+-----+----+\n",
      "|gender_heart_disease|    0|   1|\n",
      "+--------------------+-----+----+\n",
      "|               Other|   13|   0|\n",
      "|                Male|23606|1760|\n",
      "|              Female|35426|1196|\n",
      "+--------------------+-----+----+\n",
      "\n"
     ]
    }
   ],
   "source": [
    "#Comparison between different types of gender having heart attacks\n",
    "concat.crosstab('gender', 'heart_disease').show()"
   ]
  },
  {
   "cell_type": "code",
   "execution_count": 20,
   "metadata": {},
   "outputs": [
    {
     "name": "stdout",
     "output_type": "stream",
     "text": [
      "+----------------------------+-----+---+\n",
      "|smoking_status_heart_disease|    0|  1|\n",
      "+----------------------------+-----+---+\n",
      "|             formerly smoked| 9818|935|\n",
      "|                      smokes| 8713|606|\n",
      "|                never smoked|22024|862|\n",
      "|                        null|18490|553|\n",
      "+----------------------------+-----+---+\n",
      "\n"
     ]
    }
   ],
   "source": [
    "#Comparison between different types of smoking status having heart attacks\n",
    "concat.crosstab('smoking_status', 'heart_disease').show()"
   ]
  },
  {
   "cell_type": "code",
   "execution_count": 21,
   "metadata": {},
   "outputs": [
    {
     "name": "stdout",
     "output_type": "stream",
     "text": [
      "+--------------------------+-----+----+\n",
      "|ever_married_heart_disease|    0|   1|\n",
      "+--------------------------+-----+----+\n",
      "|                        No|21893| 231|\n",
      "|                       Yes|37152|2725|\n",
      "+--------------------------+-----+----+\n",
      "\n"
     ]
    }
   ],
   "source": [
    "#Comparison between different types of marital status having heart attacks\n",
    "concat.crosstab('ever_married', 'heart_disease').show()"
   ]
  },
  {
   "cell_type": "code",
   "execution_count": 22,
   "metadata": {},
   "outputs": [
    {
     "name": "stdout",
     "output_type": "stream",
     "text": [
      "+-----------------------+-----+----+\n",
      "|work_type_heart_disease|    0|   1|\n",
      "+-----------------------+-----+----+\n",
      "|               children| 8765|   4|\n",
      "|           Never_worked|  251|   1|\n",
      "|          Self-employed| 8718| 936|\n",
      "|                Private|33946|1638|\n",
      "|               Govt_job| 7365| 377|\n",
      "+-----------------------+-----+----+\n",
      "\n"
     ]
    }
   ],
   "source": [
    "#Comparison between different types of work type having heart attacks\n",
    "concat.crosstab('work_type', 'heart_disease').show()"
   ]
  },
  {
   "cell_type": "code",
   "execution_count": 23,
   "metadata": {},
   "outputs": [
    {
     "name": "stdout",
     "output_type": "stream",
     "text": [
      "+----------------------------+-----+----+\n",
      "|residence_type_heart_disease|    0|   1|\n",
      "+----------------------------+-----+----+\n",
      "|                       Rural|29441|1494|\n",
      "|                       Urban|29604|1462|\n",
      "+----------------------------+-----+----+\n",
      "\n"
     ]
    }
   ],
   "source": [
    "#Comparison between different types of residence type having heart attacks\n",
    "concat.crosstab('residence_type', 'heart_disease').show()"
   ]
  },
  {
   "cell_type": "code",
   "execution_count": 24,
   "metadata": {},
   "outputs": [
    {
     "name": "stdout",
     "output_type": "stream",
     "text": [
      "+--------------------------+-----+----+\n",
      "|hypertension_heart_disease|    0|   1|\n",
      "+--------------------------+-----+----+\n",
      "|                         1| 5040| 754|\n",
      "|                         0|54005|2202|\n",
      "+--------------------------+-----+----+\n",
      "\n"
     ]
    }
   ],
   "source": [
    "#Comparison between patients with or without hypertension having heart attacks\n",
    "concat.crosstab('hypertension', 'heart_disease').show()"
   ]
  },
  {
   "cell_type": "code",
   "execution_count": 25,
   "metadata": {},
   "outputs": [],
   "source": [
    "from pyspark import SQLContext, SparkConf, SparkContext\n",
    "import matplotlib.pyplot as plt\n",
    "import numpy as np\n",
    "from numpy import polyfit"
   ]
  },
  {
   "cell_type": "code",
   "execution_count": 26,
   "metadata": {},
   "outputs": [
    {
     "data": {
      "image/png": "[encoded data removed]",
      "text/plain": [
       "<Figure size 432x288 with 1 Axes>"
      ]
     },
     "metadata": {},
     "output_type": "display_data"
    }
   ],
   "source": [
    "#Visualization of age with heart attacks\n",
    "x1 = concat.toPandas()['heart_disease'].values.tolist()\n",
    "y1 = concat.toPandas()['age'].values.tolist()\n",
    "plt.scatter(x1,y1, color='red',s=30)\n",
    "plt.xlabel('heart_attack')\n",
    "plt.ylabel('age')\n",
    "plt.title('comparison')\n",
    "p1 = polyfit(x1,y1,1)\n",
    "plt.plot(x1,np.polyval(p1,x1),'g')\n",
    "plt.show()"
   ]
  },
  {
   "cell_type": "code",
   "execution_count": 27,
   "metadata": {},
   "outputs": [
    {
     "data": {
      "image/png": "[encoded data removed]",
      "text/plain": [
       "<Figure size 432x288 with 1 Axes>"
      ]
     },
     "metadata": {},
     "output_type": "display_data"
    }
   ],
   "source": [
    "#Visualization of bmi with heart attacks\n",
    "x1 = concat.toPandas()['heart_disease'].values.tolist()\n",
    "y1 = concat.toPandas()['bmi'].values.tolist()\n",
    "plt.scatter(x1,y1, color='red',s=30)\n",
    "plt.xlabel('heart_attack')\n",
    "plt.ylabel('bmi')\n",
    "plt.title('comparison')\n",
    "p1 = polyfit(x1,y1,1)\n",
    "plt.plot(x1,np.polyval(p1,x1),'g')\n",
    "plt.show()"
   ]
  },
  {
   "cell_type": "code",
   "execution_count": 28,
   "metadata": {},
   "outputs": [
    {
     "data": {
      "image/png": "[encoded data removed]",
      "text/plain": [
       "<Figure size 432x288 with 1 Axes>"
      ]
     },
     "metadata": {},
     "output_type": "display_data"
    }
   ],
   "source": [
    "#Visualization of average glucose level with heart attacks\n",
    "x1 = concat.toPandas()['heart_disease'].values.tolist()\n",
    "y1 = concat.toPandas()['avg_glucose_level'].values.tolist()\n",
    "plt.scatter(x1,y1, color='red',s=30)\n",
    "plt.xlabel('heart_attack')\n",
    "plt.ylabel('average_glucose_level')\n",
    "plt.title('comparison')\n",
    "p1 = polyfit(x1,y1,1)\n",
    "plt.plot(x1,np.polyval(p1,x1),'g')\n",
    "plt.show()"
   ]
  },
  {
   "cell_type": "code",
   "execution_count": 29,
   "metadata": {},
   "outputs": [
    {
     "data": {
      "text/plain": [
       "['gender',\n",
       " 'age',\n",
       " 'hypertension',\n",
       " 'heart_disease',\n",
       " 'ever_married',\n",
       " 'work_type',\n",
       " 'Residence_type',\n",
       " 'avg_glucose_level',\n",
       " 'bmi',\n",
       " 'smoking_status']"
      ]
     },
     "execution_count": 29,
     "metadata": {},
     "output_type": "execute_result"
    }
   ],
   "source": [
    "#Dropping column 'id'\n",
    "concat.drop('id').columns"
   ]
  },
  {
   "cell_type": "code",
   "execution_count": 30,
   "metadata": {},
   "outputs": [],
   "source": [
    "from pyspark.sql.functions import col,sum"
   ]
  },
  {
   "cell_type": "code",
   "execution_count": 31,
   "metadata": {},
   "outputs": [
    {
     "name": "stdout",
     "output_type": "stream",
     "text": [
      "+---+------+---+------------+-------------+------------+---------+--------------+-----------------+----+--------------+\n",
      "| id|gender|age|hypertension|heart_disease|ever_married|work_type|Residence_type|avg_glucose_level| bmi|smoking_status|\n",
      "+---+------+---+------------+-------------+------------+---------+--------------+-----------------+----+--------------+\n",
      "|  0|     0|  0|           0|            0|           0|        0|             0|                0|2053|         19043|\n",
      "+---+------+---+------------+-------------+------------+---------+--------------+-----------------+----+--------------+\n",
      "\n"
     ]
    }
   ],
   "source": [
    "#Finding missing values\n",
    "concat.select(*(sum(col(c).isNull().cast(\"int\")).alias(c) for c in concat.columns)).show()"
   ]
  },
  {
   "cell_type": "code",
   "execution_count": 32,
   "metadata": {},
   "outputs": [
    {
     "data": {
      "text/plain": [
       "0"
      ]
     },
     "execution_count": 32,
     "metadata": {},
     "output_type": "execute_result"
    }
   ],
   "source": [
    "#Identifying outliers in attribute bmi\n",
    "df1 = concat.filter(concat['bmi'] < 10).select('bmi')\n",
    "df1.count()"
   ]
  },
  {
   "cell_type": "code",
   "execution_count": 33,
   "metadata": {},
   "outputs": [
    {
     "data": {
      "text/plain": [
       "838"
      ]
     },
     "execution_count": 33,
     "metadata": {},
     "output_type": "execute_result"
    }
   ],
   "source": [
    "#Identifying outliers in attribute bmi\n",
    "df2 = concat.filter(concat['bmi'] > 50).select('bmi')\n",
    "df2.count()"
   ]
  },
  {
   "cell_type": "code",
   "execution_count": 34,
   "metadata": {},
   "outputs": [
    {
     "data": {
      "text/plain": [
       "0"
      ]
     },
     "execution_count": 34,
     "metadata": {},
     "output_type": "execute_result"
    }
   ],
   "source": [
    "#Identifying outliers in attribute age\n",
    "df3 = concat.filter(concat['age'] < 0).select('age')\n",
    "df3.count()"
   ]
  },
  {
   "cell_type": "code",
   "execution_count": 35,
   "metadata": {},
   "outputs": [
    {
     "data": {
      "text/plain": [
       "0"
      ]
     },
     "execution_count": 35,
     "metadata": {},
     "output_type": "execute_result"
    }
   ],
   "source": [
    "#Identifying outliers in attribute age\n",
    "df4 = concat.filter(concat['age'] > 100).select('age')\n",
    "df4.count()"
   ]
  },
  {
   "cell_type": "code",
   "execution_count": 36,
   "metadata": {},
   "outputs": [
    {
     "data": {
      "text/plain": [
       "2443"
      ]
     },
     "execution_count": 36,
     "metadata": {},
     "output_type": "execute_result"
    }
   ],
   "source": [
    "#Identifying outliers in attribute average glucose level\n",
    "df5 = concat.filter(concat['avg_glucose_level'] < 60).select('avg_glucose_level')\n",
    "df5.count()"
   ]
  },
  {
   "cell_type": "code",
   "execution_count": 37,
   "metadata": {},
   "outputs": [
    {
     "data": {
      "text/plain": [
       "75"
      ]
     },
     "execution_count": 37,
     "metadata": {},
     "output_type": "execute_result"
    }
   ],
   "source": [
    "#Identifying outliers in attribute average glucose level\n",
    "df6 = concat.filter(concat['avg_glucose_level'] > 260).select('avg_glucose_level')\n",
    "df6.count()"
   ]
  },
  {
   "cell_type": "code",
   "execution_count": 38,
   "metadata": {},
   "outputs": [
    {
     "data": {
      "text/plain": [
       "41495"
      ]
     },
     "execution_count": 38,
     "metadata": {},
     "output_type": "execute_result"
    }
   ],
   "source": [
    "#Removing missing values\n",
    "clean2 = concat.dropna()\n",
    "clean2.count()"
   ]
  },
  {
   "cell_type": "code",
   "execution_count": 39,
   "metadata": {},
   "outputs": [
    {
     "data": {
      "text/plain": [
       "41495"
      ]
     },
     "execution_count": 39,
     "metadata": {},
     "output_type": "execute_result"
    }
   ],
   "source": [
    "#Removing outliers in attribute bmi\n",
    "c1 = clean2.filter(concat['bmi'] > 10).select('id','gender','age','hypertension','heart_disease','work_type','Residence_type','ever_married','bmi','avg_glucose_level','smoking_status')\n",
    "c1.count()"
   ]
  },
  {
   "cell_type": "code",
   "execution_count": 40,
   "metadata": {},
   "outputs": [
    {
     "data": {
      "text/plain": [
       "40828"
      ]
     },
     "execution_count": 40,
     "metadata": {},
     "output_type": "execute_result"
    }
   ],
   "source": [
    "#Removing outliers in attribute bmi\n",
    "c2 = c1.filter(concat['bmi'] < 50).select('id','gender','age','hypertension','heart_disease','work_type','Residence_type','ever_married','bmi','avg_glucose_level','smoking_status')\n",
    "c2.count()"
   ]
  },
  {
   "cell_type": "code",
   "execution_count": 41,
   "metadata": {},
   "outputs": [
    {
     "data": {
      "text/plain": [
       "40828"
      ]
     },
     "execution_count": 41,
     "metadata": {},
     "output_type": "execute_result"
    }
   ],
   "source": [
    "#Removing outliers in attribute age\n",
    "c3 = c2.filter(concat['age'] > 0).select('id','gender','age','hypertension','heart_disease','work_type','Residence_type','ever_married','bmi','avg_glucose_level','smoking_status')\n",
    "c3.count()"
   ]
  },
  {
   "cell_type": "code",
   "execution_count": 42,
   "metadata": {},
   "outputs": [
    {
     "data": {
      "text/plain": [
       "40828"
      ]
     },
     "execution_count": 42,
     "metadata": {},
     "output_type": "execute_result"
    }
   ],
   "source": [
    "#Removing outliers in attribute age\n",
    "c4 = c3.filter(concat['age'] <100).select('id','gender','age','hypertension','heart_disease','work_type','Residence_type','ever_married','bmi','avg_glucose_level','smoking_status')\n",
    "c4.count()"
   ]
  },
  {
   "cell_type": "code",
   "execution_count": 43,
   "metadata": {},
   "outputs": [
    {
     "data": {
      "text/plain": [
       "39197"
      ]
     },
     "execution_count": 43,
     "metadata": {},
     "output_type": "execute_result"
    }
   ],
   "source": [
    "#Removing outliers in attribute average glucose level\n",
    "c5 = c4.filter(concat['avg_glucose_level'] > 60).select('id','gender','age','hypertension','heart_disease','work_type','Residence_type','ever_married','bmi','avg_glucose_level','smoking_status')\n",
    "c5.count()"
   ]
  },
  {
   "cell_type": "code",
   "execution_count": 44,
   "metadata": {},
   "outputs": [
    {
     "data": {
      "text/plain": [
       "39137"
      ]
     },
     "execution_count": 44,
     "metadata": {},
     "output_type": "execute_result"
    }
   ],
   "source": [
    "#Removing outliers in attribute average glucose level\n",
    "c6 = c5.filter(concat['avg_glucose_level'] < 260).select('id','gender','age','hypertension','heart_disease','work_type','Residence_type','ever_married','bmi','avg_glucose_level','smoking_status')\n",
    "c6.count()"
   ]
  },
  {
   "cell_type": "code",
   "execution_count": 45,
   "metadata": {},
   "outputs": [],
   "source": [
    "#Selecting columns to be considered during analysis\n",
    "clean = c6.select(['gender','age','hypertension','heart_disease','ever_married','work_type','Residence_type','avg_glucose_level','bmi','smoking_status'])"
   ]
  },
  {
   "cell_type": "code",
   "execution_count": 46,
   "metadata": {},
   "outputs": [
    {
     "data": {
      "text/plain": [
       "39137"
      ]
     },
     "execution_count": 46,
     "metadata": {},
     "output_type": "execute_result"
    }
   ],
   "source": [
    "#Displaying number of rows in cleaned dataset\n",
    "clean.count()"
   ]
  },
  {
   "cell_type": "code",
   "execution_count": 47,
   "metadata": {},
   "outputs": [
    {
     "data": {
      "text/plain": [
       "10"
      ]
     },
     "execution_count": 47,
     "metadata": {},
     "output_type": "execute_result"
    }
   ],
   "source": [
    "#Displaying number of columns in cleaned dataset\n",
    "len(clean.columns)"
   ]
  },
  {
   "cell_type": "code",
   "execution_count": 48,
   "metadata": {},
   "outputs": [
    {
     "name": "stdout",
     "output_type": "stream",
     "text": [
      "+------+----+------------+-------------+------------+-------------+--------------+-----------------+----+---------------+\n",
      "|gender| age|hypertension|heart_disease|ever_married|    work_type|Residence_type|avg_glucose_level| bmi| smoking_status|\n",
      "+------+----+------------+-------------+------------+-------------+--------------+-----------------+----+---------------+\n",
      "|  Male|58.0|           1|            0|         Yes|      Private|         Urban|            87.96|39.2|   never smoked|\n",
      "|Female|70.0|           0|            0|         Yes|      Private|         Rural|            69.04|35.9|formerly smoked|\n",
      "|Female|52.0|           0|            0|         Yes|      Private|         Urban|            77.59|17.7|formerly smoked|\n",
      "|Female|75.0|           0|            1|         Yes|Self-employed|         Rural|           243.53|27.0|   never smoked|\n",
      "|Female|32.0|           0|            0|         Yes|      Private|         Rural|            77.67|32.3|         smokes|\n",
      "|Female|37.0|           0|            0|         Yes|      Private|         Rural|           162.96|39.4|   never smoked|\n",
      "|Female|37.0|           0|            0|         Yes|      Private|         Rural|             73.5|26.1|formerly smoked|\n",
      "|Female|40.0|           0|            0|         Yes|      Private|         Rural|            95.04|42.4|   never smoked|\n",
      "|  Male|35.0|           0|            0|          No|      Private|         Rural|            85.37|33.0|   never smoked|\n",
      "|Female|20.0|           0|            0|          No|      Private|         Urban|            84.62|19.7|         smokes|\n",
      "|Female|42.0|           0|            0|         Yes|      Private|         Rural|            82.67|22.5|   never smoked|\n",
      "|Female|79.0|           0|            1|         Yes|Self-employed|         Urban|            67.84|25.2|         smokes|\n",
      "|Female|49.0|           0|            0|         Yes|      Private|         Rural|            60.22|31.5|         smokes|\n",
      "|  Male|71.0|           0|            0|         Yes|      Private|         Urban|           198.21|27.3|formerly smoked|\n",
      "|Female|59.0|           0|            0|         Yes|      Private|         Urban|           109.82|23.7|   never smoked|\n",
      "|Female|25.0|           0|            0|         Yes|      Private|         Urban|            60.84|24.5|   never smoked|\n",
      "|Female|67.0|           0|            0|         Yes|     Govt_job|         Rural|            94.61|28.4|         smokes|\n",
      "|Female|38.0|           0|            0|          No|      Private|         Rural|            97.49|26.9|   never smoked|\n",
      "|Female|54.0|           0|            0|         Yes|      Private|         Rural|           206.72|26.7|   never smoked|\n",
      "|Female|70.0|           0|            0|         Yes|Self-employed|         Rural|           214.45|31.2|   never smoked|\n",
      "+------+----+------------+-------------+------------+-------------+--------------+-----------------+----+---------------+\n",
      "only showing top 20 rows\n",
      "\n"
     ]
    }
   ],
   "source": [
    "#Displaying the clean data\n",
    "clean.show()"
   ]
  },
  {
   "cell_type": "code",
   "execution_count": 49,
   "metadata": {},
   "outputs": [
    {
     "name": "stdout",
     "output_type": "stream",
     "text": [
      "+-------+------------------+\n",
      "|summary|               age|\n",
      "+-------+------------------+\n",
      "|  count|             62001|\n",
      "|   mean|42.169475331042975|\n",
      "| stddev|22.522099535371346|\n",
      "|    min|              0.08|\n",
      "|    max|              82.0|\n",
      "+-------+------------------+\n",
      "\n"
     ]
    }
   ],
   "source": [
    "#Summarizing age attribute statistically\n",
    "concat.describe('age').show()"
   ]
  },
  {
   "cell_type": "code",
   "execution_count": 50,
   "metadata": {},
   "outputs": [
    {
     "name": "stdout",
     "output_type": "stream",
     "text": [
      "+-------+-----------------+\n",
      "|summary|avg_glucose_level|\n",
      "+-------+-----------------+\n",
      "|  count|            62001|\n",
      "|   mean| 104.453831712391|\n",
      "| stddev| 42.9605371949353|\n",
      "|    min|             55.0|\n",
      "|    max|           291.05|\n",
      "+-------+-----------------+\n",
      "\n"
     ]
    }
   ],
   "source": [
    "#Summarizing avergae glucose level attribute statistically\n",
    "concat.describe('avg_glucose_level').show()"
   ]
  },
  {
   "cell_type": "code",
   "execution_count": 51,
   "metadata": {},
   "outputs": [
    {
     "name": "stdout",
     "output_type": "stream",
     "text": [
      "+-------+-----------------+\n",
      "|summary|              bmi|\n",
      "+-------+-----------------+\n",
      "|  count|            59948|\n",
      "|   mean| 28.5870988189766|\n",
      "| stddev|7.766122190731495|\n",
      "|    min|             10.1|\n",
      "|    max|             97.6|\n",
      "+-------+-----------------+\n",
      "\n"
     ]
    }
   ],
   "source": [
    "#Summarizing bmi attribute statistically\n",
    "concat.describe('bmi').show()"
   ]
  },
  {
   "cell_type": "code",
   "execution_count": 52,
   "metadata": {},
   "outputs": [
    {
     "data": {
      "text/plain": [
       "39137"
      ]
     },
     "execution_count": 52,
     "metadata": {},
     "output_type": "execute_result"
    }
   ],
   "source": [
    "#Showing records after cleaning\n",
    "clean.count()"
   ]
  },
  {
   "cell_type": "code",
   "execution_count": null,
   "metadata": {},
   "outputs": [],
   "source": []
  },
  {
   "cell_type": "code",
   "execution_count": 53,
   "metadata": {},
   "outputs": [],
   "source": [
    "#Checking accuracy of Linear Regression for data mining on the cleaned dataset"
   ]
  },
  {
   "cell_type": "code",
   "execution_count": 54,
   "metadata": {},
   "outputs": [],
   "source": [
    "#from pyspark.ml.regression import LinearRegression"
   ]
  },
  {
   "cell_type": "code",
   "execution_count": 55,
   "metadata": {},
   "outputs": [],
   "source": [
    "#from pyspark.ml.linalg import Vectors\n",
    "#from pyspark.ml.feature import VectorAssembler"
   ]
  },
  {
   "cell_type": "code",
   "execution_count": 56,
   "metadata": {},
   "outputs": [],
   "source": [
    "#from pyspark.ml.feature import StringIndexer, OneHotEncoder\n",
    "\n",
    "#varIdxer = StringIndexer(inputCol='gender',outputCol='varIdgender').fit(clean)\n",
    "#clean = varIdxer.transform(clean)"
   ]
  },
  {
   "cell_type": "code",
   "execution_count": 57,
   "metadata": {},
   "outputs": [],
   "source": [
    "#varIdxer = StringIndexer(inputCol='work_type',outputCol='varIdworktype').fit(clean)\n",
    "#clean = varIdxer.transform(clean)"
   ]
  },
  {
   "cell_type": "code",
   "execution_count": 58,
   "metadata": {},
   "outputs": [],
   "source": [
    "#varIdxer = StringIndexer(inputCol='Residence_type',outputCol='varIdresidencetype').fit(clean)\n",
    "#clean = varIdxer.transform(clean)"
   ]
  },
  {
   "cell_type": "code",
   "execution_count": 59,
   "metadata": {},
   "outputs": [],
   "source": [
    "#varIdxer = StringIndexer(inputCol='smoking_status',outputCol='varIdsmokingstatus').fit(clean)\n",
    "#clean = varIdxer.transform(clean)"
   ]
  },
  {
   "cell_type": "code",
   "execution_count": 60,
   "metadata": {},
   "outputs": [],
   "source": [
    "#varIdxer = StringIndexer(inputCol='ever_married',outputCol='varIdmarried').fit(clean)\n",
    "#clean = varIdxer.transform(clean)"
   ]
  },
  {
   "cell_type": "code",
   "execution_count": 61,
   "metadata": {},
   "outputs": [],
   "source": [
    "#clean = OneHotEncoder(inputCol=\"varIdgender\", outputCol=\"varCatgender\").transform(clean)"
   ]
  },
  {
   "cell_type": "code",
   "execution_count": 62,
   "metadata": {},
   "outputs": [],
   "source": [
    "#clean = OneHotEncoder(inputCol=\"varIdworktype\", outputCol=\"varCatworktype\").transform(clean)"
   ]
  },
  {
   "cell_type": "code",
   "execution_count": 63,
   "metadata": {},
   "outputs": [],
   "source": [
    "#clean = OneHotEncoder(inputCol=\"varIdresidencetype\", outputCol=\"varCatresidencetype\").transform(clean)"
   ]
  },
  {
   "cell_type": "code",
   "execution_count": 64,
   "metadata": {},
   "outputs": [],
   "source": [
    "#clean = OneHotEncoder(inputCol=\"varIdsmokingstatus\", outputCol=\"varCatsmokingstatus\").transform(clean)"
   ]
  },
  {
   "cell_type": "code",
   "execution_count": 65,
   "metadata": {},
   "outputs": [],
   "source": [
    "#clean = OneHotEncoder(inputCol=\"varIdmarried\", outputCol=\"varCatmarried\").transform(clean)"
   ]
  },
  {
   "cell_type": "code",
   "execution_count": 66,
   "metadata": {},
   "outputs": [],
   "source": [
    "#'''string_feature_indexers = [\n",
    " #  StringIndexer(inputCol='gender', outputCol=\"int_{0}\".format('gender')).fit(clean)\n",
    "#]\n",
    "#string_feature_indexers = [\n",
    " #  StringIndexer(inputCol='work_type', outputCol=\"int_{0}\".format('work_type')).fit(clean)\n",
    "#]\n",
    "#string_feature_indexers = [\n",
    " #  StringIndexer(inputCol='Residence_type', outputCol=\"int_{0}\".format('Residence_type')).fit(clean)\n",
    "#]\n",
    "#string_feature_indexers = [\n",
    " #  StringIndexer(inputCol='smoking_status', outputCol=\"int_{0}\".format('smoking_status')).fit(clean)\n",
    "#]\n",
    "#string_feature_indexers = [\n",
    " #  StringIndexer(inputCol='ever_married', outputCol=\"int_{0}\".format('ever_married')).fit(clean)\n",
    "#]'''"
   ]
  },
  {
   "cell_type": "code",
   "execution_count": 67,
   "metadata": {},
   "outputs": [],
   "source": [
    "#assembler = VectorAssembler(\n",
    " #   inputCols=['age','hypertension','bmi','avg_glucose_level','varCatgender','varCatworktype','varCatresidencetype','varCatsmokingstatus','varCatmarried'],\n",
    "  #  outputCol='features')"
   ]
  },
  {
   "cell_type": "code",
   "execution_count": 68,
   "metadata": {},
   "outputs": [],
   "source": [
    "#output = assembler.transform(clean)"
   ]
  },
  {
   "cell_type": "code",
   "execution_count": 69,
   "metadata": {},
   "outputs": [],
   "source": [
    "#output.printSchema()\n",
    "#output.head(1)"
   ]
  },
  {
   "cell_type": "code",
   "execution_count": 70,
   "metadata": {},
   "outputs": [],
   "source": [
    "#final_data = output.select(\"features\",'heart_disease')\n",
    "#final_data.show()"
   ]
  },
  {
   "cell_type": "code",
   "execution_count": 71,
   "metadata": {},
   "outputs": [],
   "source": [
    "#train_data,test_data = final_data.randomSplit([0.7,0.3])"
   ]
  },
  {
   "cell_type": "code",
   "execution_count": 72,
   "metadata": {},
   "outputs": [],
   "source": [
    "#lr = LinearRegression(labelCol='heart_disease')"
   ]
  },
  {
   "cell_type": "code",
   "execution_count": 73,
   "metadata": {},
   "outputs": [],
   "source": [
    "#lrModel = lr.fit(train_data)"
   ]
  },
  {
   "cell_type": "code",
   "execution_count": 74,
   "metadata": {},
   "outputs": [],
   "source": [
    "#print(\"Coefficients: {} Intercept: {}\".format(lrModel.coefficients,lrModel.intercept))"
   ]
  },
  {
   "cell_type": "code",
   "execution_count": 75,
   "metadata": {},
   "outputs": [],
   "source": [
    "#test_results = lrModel.evaluate(test_data)"
   ]
  },
  {
   "cell_type": "code",
   "execution_count": 76,
   "metadata": {},
   "outputs": [],
   "source": [
    "#test_results.residuals.show()\n",
    "#print(\"RSME: {}\".format(test_results.rootMeanSquaredError))"
   ]
  },
  {
   "cell_type": "code",
   "execution_count": 77,
   "metadata": {},
   "outputs": [],
   "source": [
    "#print(\"R2: {}\".format(test_results.r2))"
   ]
  },
  {
   "cell_type": "code",
   "execution_count": null,
   "metadata": {},
   "outputs": [],
   "source": []
  },
  {
   "cell_type": "code",
   "execution_count": null,
   "metadata": {},
   "outputs": [],
   "source": []
  },
  {
   "cell_type": "code",
   "execution_count": 78,
   "metadata": {},
   "outputs": [],
   "source": [
    "#Checking accuracy of Logistic Regression for data mining on the cleaned dataset"
   ]
  },
  {
   "cell_type": "code",
   "execution_count": 79,
   "metadata": {},
   "outputs": [],
   "source": [
    "#from pyspark.ml.classification import LogisticRegression"
   ]
  },
  {
   "cell_type": "code",
   "execution_count": 80,
   "metadata": {},
   "outputs": [],
   "source": [
    "from pyspark.ml.feature import (VectorAssembler,VectorIndexer,\n",
    "                                OneHotEncoder,StringIndexer)"
   ]
  },
  {
   "cell_type": "code",
   "execution_count": 81,
   "metadata": {},
   "outputs": [],
   "source": [
    "#gender_indexer = StringIndexer(inputCol='gender',outputCol='GenderIndex')\n",
    "#gender_encoder = OneHotEncoder(inputCol='GenderIndex',outputCol='GenderVec')"
   ]
  },
  {
   "cell_type": "code",
   "execution_count": 82,
   "metadata": {},
   "outputs": [],
   "source": [
    "#work_indexer = StringIndexer(inputCol='work_type',outputCol='WorkTypeIndex')\n",
    "#work_encoder = OneHotEncoder(inputCol='WorkTypeIndex',outputCol='WorkTypeVec')"
   ]
  },
  {
   "cell_type": "code",
   "execution_count": 83,
   "metadata": {},
   "outputs": [],
   "source": [
    "#married_indexer = StringIndexer(inputCol='ever_married',outputCol='EverMarriedIndex')\n",
    "#married_encoder = OneHotEncoder(inputCol='EverMarriedIndex',outputCol='EverMarriedVec')"
   ]
  },
  {
   "cell_type": "code",
   "execution_count": 84,
   "metadata": {},
   "outputs": [],
   "source": [
    "#residence_indexer = StringIndexer(inputCol='Residence_type',outputCol='ResidenceTypeIndex')\n",
    "#residence_encoder = OneHotEncoder(inputCol='ResidenceTypeIndex',outputCol='ResidenceTypeVec')"
   ]
  },
  {
   "cell_type": "code",
   "execution_count": 85,
   "metadata": {},
   "outputs": [],
   "source": [
    "#smoking_indexer = StringIndexer(inputCol='smoking_status',outputCol='SmokingStatusIndex')\n",
    "#smoking_encoder = OneHotEncoder(inputCol='SmokingStatusIndex',outputCol='SmokingStatusVec')"
   ]
  },
  {
   "cell_type": "code",
   "execution_count": 86,
   "metadata": {},
   "outputs": [],
   "source": [
    "#assembler = VectorAssembler(inputCols=['age',\n",
    " #'GenderVec',\n",
    " #'bmi',\n",
    " #'avg_glucose_level',\n",
    " #'hypertension',\n",
    " #'WorkTypeVec',\n",
    " #'EverMarriedVec','ResidenceTypeVec', 'SmokingStatusVec'],outputCol='features')"
   ]
  },
  {
   "cell_type": "code",
   "execution_count": 87,
   "metadata": {},
   "outputs": [],
   "source": [
    "#from pyspark.ml import Pipeline"
   ]
  },
  {
   "cell_type": "code",
   "execution_count": 88,
   "metadata": {},
   "outputs": [],
   "source": [
    "#log_reg_heart = LogisticRegression(featuresCol='features',labelCol='heart_disease')"
   ]
  },
  {
   "cell_type": "code",
   "execution_count": 89,
   "metadata": {},
   "outputs": [],
   "source": [
    "#pipeline = Pipeline(stages=[gender_indexer,work_indexer,married_indexer,residence_indexer,smoking_indexer,\n",
    "#                           gender_encoder,work_encoder,married_encoder,residence_encoder,smoking_encoder,\n",
    " #                          assembler,log_reg_heart])"
   ]
  },
  {
   "cell_type": "code",
   "execution_count": 90,
   "metadata": {},
   "outputs": [],
   "source": [
    "#train_heart_data, test_heart_data = clean.randomSplit([0.7,.3])"
   ]
  },
  {
   "cell_type": "code",
   "execution_count": 91,
   "metadata": {},
   "outputs": [],
   "source": [
    "#fit_model = pipeline.fit(train_heart_data)"
   ]
  },
  {
   "cell_type": "code",
   "execution_count": 92,
   "metadata": {},
   "outputs": [],
   "source": [
    "#results = fit_model.transform(test_heart_data)"
   ]
  },
  {
   "cell_type": "code",
   "execution_count": 93,
   "metadata": {},
   "outputs": [],
   "source": [
    "#from pyspark.ml.evaluation import BinaryClassificationEvaluator\n",
    "\n",
    "#my_eval = BinaryClassificationEvaluator(rawPredictionCol='prediction',\n",
    " #                                      labelCol='heart_disease')"
   ]
  },
  {
   "cell_type": "code",
   "execution_count": 94,
   "metadata": {},
   "outputs": [],
   "source": [
    "#results.select('heart_disease','prediction').show()"
   ]
  },
  {
   "cell_type": "code",
   "execution_count": 95,
   "metadata": {},
   "outputs": [],
   "source": [
    "#AUC = my_eval.evaluate(results)\n",
    "\n",
    "#AUC"
   ]
  },
  {
   "cell_type": "code",
   "execution_count": 96,
   "metadata": {},
   "outputs": [],
   "source": [
    "#totalResults = results.select('heart_disease','prediction')\n",
    "\n",
    "#correctResults = totalResults.filter(totalResults['heart_disease'] == totalResults['prediction'])\n",
    "\n",
    "#countTR = totalResults.count()\n",
    "#print(\"Correct: \" + str(countTR))\n",
    "\n",
    "#countTC = correctResults.count()\n",
    "#print(\"Total Correct: \" + str(countTC)) "
   ]
  },
  {
   "cell_type": "code",
   "execution_count": null,
   "metadata": {},
   "outputs": [],
   "source": []
  },
  {
   "cell_type": "code",
   "execution_count": null,
   "metadata": {},
   "outputs": [],
   "source": []
  },
  {
   "cell_type": "code",
   "execution_count": 97,
   "metadata": {},
   "outputs": [],
   "source": [
    "#Actual model used: RANDOM FOREST MODEL"
   ]
  },
  {
   "cell_type": "code",
   "execution_count": 98,
   "metadata": {},
   "outputs": [],
   "source": [
    "from pyspark.ml.linalg import Vectors\n",
    "from pyspark.ml.feature import VectorAssembler\n",
    "from pyspark.ml.feature import StringIndexer, OneHotEncoder"
   ]
  },
  {
   "cell_type": "code",
   "execution_count": 99,
   "metadata": {},
   "outputs": [],
   "source": [
    "varIdxer = StringIndexer(inputCol='gender',outputCol='varIdgender').fit(clean)\n",
    "clean = varIdxer.transform(clean)\n",
    "varIdxer = StringIndexer(inputCol='work_type',outputCol='varIdworktype').fit(clean)\n",
    "clean = varIdxer.transform(clean)\n",
    "varIdxer = StringIndexer(inputCol='Residence_type',outputCol='varIdresidencetype').fit(clean)\n",
    "clean = varIdxer.transform(clean)\n",
    "varIdxer = StringIndexer(inputCol='smoking_status',outputCol='varIdsmokingstatus').fit(clean)\n",
    "clean = varIdxer.transform(clean)\n",
    "varIdxer = StringIndexer(inputCol='ever_married',outputCol='varIdmarried').fit(clean)\n",
    "clean = varIdxer.transform(clean)"
   ]
  },
  {
   "cell_type": "code",
   "execution_count": 100,
   "metadata": {},
   "outputs": [],
   "source": [
    "clean = OneHotEncoder(inputCol=\"varIdgender\", outputCol=\"varCatgender\").transform(clean)\n",
    "clean = OneHotEncoder(inputCol=\"varIdworktype\", outputCol=\"varCatworktype\").transform(clean)\n",
    "clean = OneHotEncoder(inputCol=\"varIdresidencetype\", outputCol=\"varCatresidencetype\").transform(clean)\n",
    "clean = OneHotEncoder(inputCol=\"varIdsmokingstatus\", outputCol=\"varCatsmokingstatus\").transform(clean)\n",
    "clean = OneHotEncoder(inputCol=\"varIdmarried\", outputCol=\"varCatmarried\").transform(clean)"
   ]
  },
  {
   "cell_type": "code",
   "execution_count": 101,
   "metadata": {},
   "outputs": [],
   "source": [
    "assembler = VectorAssembler(\n",
    "  inputCols=['age',\n",
    "             'bmi',\n",
    "             'avg_glucose_level',\n",
    "             'hypertension','varCatgender','varCatworktype','varCatresidencetype','varCatsmokingstatus','varCatmarried'],\n",
    "              outputCol=\"features1\")"
   ]
  },
  {
   "cell_type": "code",
   "execution_count": 102,
   "metadata": {},
   "outputs": [],
   "source": [
    "output = assembler.transform(clean)"
   ]
  },
  {
   "cell_type": "code",
   "execution_count": 103,
   "metadata": {},
   "outputs": [],
   "source": [
    "from pyspark.ml.feature import StringIndexer"
   ]
  },
  {
   "cell_type": "code",
   "execution_count": 104,
   "metadata": {},
   "outputs": [],
   "source": [
    "indexer = StringIndexer(inputCol=\"heart_disease\", outputCol=\"HeartDiseaseIndex\")\n",
    "output_fixed = indexer.fit(output).transform(output)"
   ]
  },
  {
   "cell_type": "code",
   "execution_count": 105,
   "metadata": {},
   "outputs": [],
   "source": [
    "final_data = output_fixed.select(\"features1\",'HeartDiseaseIndex')"
   ]
  },
  {
   "cell_type": "code",
   "execution_count": 106,
   "metadata": {},
   "outputs": [],
   "source": [
    "#Splitting the dataset in training and testing in the ratio of 70:30\n",
    "train1_data,test1_data = final_data.randomSplit([0.7,0.3])"
   ]
  },
  {
   "cell_type": "code",
   "execution_count": 107,
   "metadata": {},
   "outputs": [],
   "source": [
    "from pyspark.ml.classification import RandomForestClassifier\n",
    "from pyspark.ml import Pipeline"
   ]
  },
  {
   "cell_type": "code",
   "execution_count": 108,
   "metadata": {},
   "outputs": [],
   "source": [
    "rfc = RandomForestClassifier(labelCol='HeartDiseaseIndex',featuresCol='features1',numTrees = 7,maxDepth = 8,impurity = \"gini\",maxBins = 32)\n",
    "rfc1 = RandomForestClassifier(labelCol='HeartDiseaseIndex',featuresCol='features1',numTrees = 4,maxDepth = 5,impurity = \"gini\",maxBins = 32)"
   ]
  },
  {
   "cell_type": "code",
   "execution_count": 109,
   "metadata": {},
   "outputs": [],
   "source": [
    "rfc_model = rfc.fit(train1_data)\n",
    "rfc1_model = rfc1.fit(train1_data)"
   ]
  },
  {
   "cell_type": "code",
   "execution_count": 110,
   "metadata": {},
   "outputs": [],
   "source": [
    "rfc_predictions = rfc_model.transform(test1_data)\n",
    "rfc1_predictions = rfc1_model.transform(test1_data)"
   ]
  },
  {
   "cell_type": "code",
   "execution_count": 111,
   "metadata": {},
   "outputs": [],
   "source": [
    "from pyspark.ml.evaluation import BinaryClassificationEvaluator\n",
    "my_binary_eval = BinaryClassificationEvaluator(labelCol = 'HeartDiseaseIndex')"
   ]
  },
  {
   "cell_type": "code",
   "execution_count": 112,
   "metadata": {},
   "outputs": [
    {
     "name": "stdout",
     "output_type": "stream",
     "text": [
      "RFC\n",
      "0.8455137574967923\n",
      "RFC1\n",
      "0.8404277350194634\n"
     ]
    }
   ],
   "source": [
    "print(\"RFC\")\n",
    "print(my_binary_eval.evaluate(rfc_predictions))\n",
    "print(\"RFC1\")\n",
    "print(my_binary_eval.evaluate(rfc1_predictions))"
   ]
  },
  {
   "cell_type": "code",
   "execution_count": 113,
   "metadata": {},
   "outputs": [],
   "source": [
    "from pyspark.ml.evaluation import MulticlassClassificationEvaluator"
   ]
  },
  {
   "cell_type": "code",
   "execution_count": 114,
   "metadata": {},
   "outputs": [],
   "source": [
    "acc_evaluator = MulticlassClassificationEvaluator(labelCol=\"HeartDiseaseIndex\", predictionCol=\"prediction\", metricName=\"accuracy\")"
   ]
  },
  {
   "cell_type": "code",
   "execution_count": 115,
   "metadata": {},
   "outputs": [],
   "source": [
    "rfc_acc = acc_evaluator.evaluate(rfc_predictions)\n",
    "rfc1_acc = acc_evaluator.evaluate(rfc1_predictions)"
   ]
  },
  {
   "cell_type": "code",
   "execution_count": 116,
   "metadata": {},
   "outputs": [
    {
     "name": "stdout",
     "output_type": "stream",
     "text": [
      "----------------------------------------\n",
      "A random forest for iteration 1 ensemble has an accuracy of: 94.72%\n",
      "----------------------------------------\n",
      "A random forest for iteration 2 ensemble has an accuracy of: 94.73%\n"
     ]
    }
   ],
   "source": [
    "print('-'*40)\n",
    "print('A random forest for iteration 1 ensemble has an accuracy of: {0:2.2f}%'.format(rfc_acc*100))\n",
    "print('-'*40)\n",
    "print('A random forest for iteration 2 ensemble has an accuracy of: {0:2.2f}%'.format(rfc1_acc*100))"
   ]
  },
  {
   "cell_type": "code",
   "execution_count": 117,
   "metadata": {},
   "outputs": [
    {
     "name": "stdout",
     "output_type": "stream",
     "text": [
      "+--------------------+-----------------+--------------------+--------------------+----------+\n",
      "|           features1|HeartDiseaseIndex|       rawPrediction|         probability|prediction|\n",
      "+--------------------+-----------------+--------------------+--------------------+----------+\n",
      "|(14,[0,1,2,3,4,6]...|              0.0|[6.91219512195121...|[0.98745644599303...|       0.0|\n",
      "|(14,[0,1,2,3,4,6]...|              0.0|[6.92034632034632...|[0.98862090290661...|       0.0|\n",
      "|(14,[0,1,2,3,4,6]...|              1.0|[6.86300366300366...|[0.98042909471480...|       0.0|\n",
      "|(14,[0,1,2,3,4,6]...|              0.0|[6.98249831432675...|[0.99749975918953...|       0.0|\n",
      "|(14,[0,1,2,3,4,6,...|              0.0|[6.91219512195121...|[0.98745644599303...|       0.0|\n",
      "|(14,[0,1,2,3,4,6,...|              0.0|[6.91219512195121...|[0.98745644599303...|       0.0|\n",
      "|(14,[0,1,2,3,4,6,...|              0.0|[6.06978114478114...|[0.86711159211159...|       0.0|\n",
      "|(14,[0,1,2,3,4,6,...|              0.0|[4.96473063973063...|[0.70924723424723...|       0.0|\n",
      "|(14,[0,1,2,3,4,6,...|              0.0|[5.97766463624870...|[0.85395209089267...|       0.0|\n",
      "|(14,[0,1,2,3,4,6,...|              0.0|[6.95374800637958...|[0.99339257233994...|       0.0|\n",
      "|(14,[0,1,2,3,4,6,...|              0.0|[6.26831774649684...|[0.89547396378526...|       0.0|\n",
      "|(14,[0,1,2,3,4,6,...|              0.0|[6.65247781234533...|[0.95035397319219...|       0.0|\n",
      "|(14,[0,1,2,3,4,6,...|              0.0|[6.90972285106090...|[0.98710326443727...|       0.0|\n",
      "|(14,[0,1,2,3,4,6,...|              0.0|[6.90972285106090...|[0.98710326443727...|       0.0|\n",
      "|(14,[0,1,2,3,4,6,...|              0.0|[6.80959226819691...|[0.97279889545670...|       0.0|\n",
      "|(14,[0,1,2,3,4,6,...|              0.0|[6.90972285106090...|[0.98710326443727...|       0.0|\n",
      "|(14,[0,1,2,3,4,6,...|              0.0|[6.93699557833363...|[0.99099936833337...|       0.0|\n",
      "|(14,[0,1,2,3,4,6,...|              0.0|[6.79564096566683...|[0.97080585223811...|       0.0|\n",
      "|(14,[0,1,2,3,4,6,...|              1.0|[6.79564096566683...|[0.97080585223811...|       0.0|\n",
      "|(14,[0,1,2,3,4,6,...|              0.0|[6.67047278303092...|[0.95292468329013...|       0.0|\n",
      "+--------------------+-----------------+--------------------+--------------------+----------+\n",
      "only showing top 20 rows\n",
      "\n",
      "+--------------------+-----------------+--------------------+--------------------+----------+\n",
      "|           features1|HeartDiseaseIndex|       rawPrediction|         probability|prediction|\n",
      "+--------------------+-----------------+--------------------+--------------------+----------+\n",
      "|(14,[0,1,2,3,4,6]...|              0.0|[3.88237770126502...|[0.97059442531625...|       0.0|\n",
      "|(14,[0,1,2,3,4,6]...|              0.0|[3.74596262052839...|[0.93649065513209...|       0.0|\n",
      "|(14,[0,1,2,3,4,6]...|              1.0|[3.87533131786227...|[0.96883282946556...|       0.0|\n",
      "|(14,[0,1,2,3,4,6]...|              0.0|[3.75300900393114...|[0.93825225098278...|       0.0|\n",
      "|(14,[0,1,2,3,4,6,...|              0.0|[3.87533131786227...|[0.96883282946556...|       0.0|\n",
      "|(14,[0,1,2,3,4,6,...|              0.0|[3.82154350258036...|[0.95538587564509...|       0.0|\n",
      "|(14,[0,1,2,3,4,6,...|              0.0|[3.83610806451441...|[0.95902701612860...|       0.0|\n",
      "|(14,[0,1,2,3,4,6,...|              0.0|[3.72306516550029...|[0.93076629137507...|       0.0|\n",
      "|(14,[0,1,2,3,4,6,...|              0.0|[3.19739333466772...|[0.79934833366693...|       0.0|\n",
      "|(14,[0,1,2,3,4,6,...|              0.0|[3.94864826352814...|[0.98716206588203...|       0.0|\n",
      "|(14,[0,1,2,3,4,6,...|              0.0|[3.66311736206567...|[0.91577934051641...|       0.0|\n",
      "|(14,[0,1,2,3,4,6,...|              0.0|[3.54062403780786...|[0.88515600945196...|       0.0|\n",
      "|(14,[0,1,2,3,4,6,...|              0.0|[3.82154350258036...|[0.95538587564509...|       0.0|\n",
      "|(14,[0,1,2,3,4,6,...|              0.0|[3.85496559240017...|[0.96374139810004...|       0.0|\n",
      "|(14,[0,1,2,3,4,6,...|              0.0|[3.75929035780204...|[0.93982258945051...|       0.0|\n",
      "|(14,[0,1,2,3,4,6,...|              0.0|[3.84791920899741...|[0.96197980224935...|       0.0|\n",
      "|(14,[0,1,2,3,4,6,...|              0.0|[3.85496559240017...|[0.96374139810004...|       0.0|\n",
      "|(14,[0,1,2,3,4,6,...|              0.0|[3.82154350258036...|[0.95538587564509...|       0.0|\n",
      "|(14,[0,1,2,3,4,6,...|              1.0|[3.85496559240017...|[0.96374139810004...|       0.0|\n",
      "|(14,[0,1,2,3,4,6,...|              0.0|[3.70639115602185...|[0.92659778900546...|       0.0|\n",
      "+--------------------+-----------------+--------------------+--------------------+----------+\n",
      "only showing top 20 rows\n",
      "\n"
     ]
    }
   ],
   "source": [
    "rfc_predictions.show()\n",
    "rfc1_predictions.show()"
   ]
  },
  {
   "cell_type": "code",
   "execution_count": 118,
   "metadata": {},
   "outputs": [],
   "source": [
    "from numpy import allclose"
   ]
  },
  {
   "cell_type": "code",
   "execution_count": 119,
   "metadata": {},
   "outputs": [
    {
     "data": {
      "text/plain": [
       "SparseVector(14, {0: 0.3862, 1: 0.1265, 2: 0.1818, 3: 0.0581, 4: 0.036, 5: 0.051, 6: 0.014, 7: 0.0214, 8: 0.0099, 9: 0.0017, 10: 0.0247, 11: 0.0292, 12: 0.0241, 13: 0.0354})"
      ]
     },
     "execution_count": 119,
     "metadata": {},
     "output_type": "execute_result"
    }
   ],
   "source": [
    "rfc_model.featureImportances"
   ]
  },
  {
   "cell_type": "code",
   "execution_count": 120,
   "metadata": {},
   "outputs": [
    {
     "data": {
      "text/plain": [
       "SparseVector(14, {0: 0.5457, 1: 0.0345, 2: 0.0552, 3: 0.1041, 4: 0.0702, 5: 0.0878, 6: 0.0041, 7: 0.0283, 8: 0.0009, 9: 0.0012, 10: 0.0029, 11: 0.0369, 12: 0.0184, 13: 0.0098})"
      ]
     },
     "execution_count": 120,
     "metadata": {},
     "output_type": "execute_result"
    }
   ],
   "source": [
    "rfc1_model.featureImportances"
   ]
  },
  {
   "cell_type": "code",
   "execution_count": null,
   "metadata": {},
   "outputs": [],
   "source": []
  }
 ],
 "metadata": {
  "kernelspec": {
   "display_name": "Python 3",
   "language": "python",
   "name": "python3"
  },
  "language_info": {
   "codemirror_mode": {
    "name": "ipython",
    "version": 3
   },
   "file_extension": ".py",
   "mimetype": "text/x-python",
   "name": "python",
   "nbconvert_exporter": "python",
   "pygments_lexer": "ipython3",
   "version": "3.5.2"
  }
 },
 "nbformat": 4,
 "nbformat_minor": 2
}
