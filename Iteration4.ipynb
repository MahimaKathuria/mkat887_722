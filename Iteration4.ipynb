{
 "cells": [
  {
   "cell_type": "code",
   "execution_count": 131,
   "metadata": {},
   "outputs": [],
   "source": [
    "import findspark\n",
    "findspark.init('/home/ubuntu/spark-2.1.1-bin-hadoop2.7')\n",
    "import pyspark\n",
    "from pyspark.sql import SparkSession\n",
    "spark = SparkSession.builder.appName('operations').getOrCreate()"
   ]
  },
  {
   "cell_type": "code",
   "execution_count": 132,
   "metadata": {},
   "outputs": [
    {
     "name": "stdout",
     "output_type": "stream",
     "text": [
      "root\n",
      " |-- id: integer (nullable = true)\n",
      " |-- gender: string (nullable = true)\n",
      " |-- age: double (nullable = true)\n",
      " |-- hypertension: integer (nullable = true)\n",
      " |-- heart_disease: integer (nullable = true)\n",
      " |-- ever_married: string (nullable = true)\n",
      " |-- work_type: string (nullable = true)\n",
      " |-- Residence_type: string (nullable = true)\n",
      " |-- avg_glucose_level: double (nullable = true)\n",
      " |-- bmi: double (nullable = true)\n",
      " |-- smoking_status: string (nullable = true)\n",
      "\n",
      "root\n",
      " |-- id: integer (nullable = true)\n",
      " |-- gender: string (nullable = true)\n",
      " |-- age: double (nullable = true)\n",
      " |-- hypertension: integer (nullable = true)\n",
      " |-- heart_disease: integer (nullable = true)\n",
      " |-- ever_married: string (nullable = true)\n",
      " |-- work_type: string (nullable = true)\n",
      " |-- Residence_type: string (nullable = true)\n",
      " |-- avg_glucose_level: double (nullable = true)\n",
      " |-- bmi: double (nullable = true)\n",
      " |-- smoking_status: string (nullable = true)\n",
      "\n"
     ]
    }
   ],
   "source": [
    "#Loading datasets\n",
    "dataset1 = spark.read.csv('Datasets/traindataset.csv', inferSchema=True, header=True)\n",
    "dataset2 = spark.read.csv('Datasets/testdataset.csv', inferSchema=True, header=True)\n",
    "#Printing the types of attributes\n",
    "dataset1.printSchema()\n",
    "dataset2.printSchema()"
   ]
  },
  {
   "cell_type": "code",
   "execution_count": 133,
   "metadata": {},
   "outputs": [
    {
     "name": "stdout",
     "output_type": "stream",
     "text": [
      "+-----+------+----+------------+-------------+------------+-------------+--------------+-----------------+----+---------------+\n",
      "|   id|gender| age|hypertension|heart_disease|ever_married|    work_type|Residence_type|avg_glucose_level| bmi| smoking_status|\n",
      "+-----+------+----+------------+-------------+------------+-------------+--------------+-----------------+----+---------------+\n",
      "|30669|  Male| 3.0|           0|            0|          No|     children|         Rural|            95.12|18.0|           null|\n",
      "|30468|  Male|58.0|           1|            0|         Yes|      Private|         Urban|            87.96|39.2|   never smoked|\n",
      "|16523|Female| 8.0|           0|            0|          No|      Private|         Urban|           110.89|17.6|           null|\n",
      "|56543|Female|70.0|           0|            0|         Yes|      Private|         Rural|            69.04|35.9|formerly smoked|\n",
      "|46136|  Male|14.0|           0|            0|          No| Never_worked|         Rural|           161.28|19.1|           null|\n",
      "|32257|Female|47.0|           0|            0|         Yes|      Private|         Urban|           210.95|50.1|           null|\n",
      "|52800|Female|52.0|           0|            0|         Yes|      Private|         Urban|            77.59|17.7|formerly smoked|\n",
      "|41413|Female|75.0|           0|            1|         Yes|Self-employed|         Rural|           243.53|27.0|   never smoked|\n",
      "|15266|Female|32.0|           0|            0|         Yes|      Private|         Rural|            77.67|32.3|         smokes|\n",
      "|28674|Female|74.0|           1|            0|         Yes|Self-employed|         Urban|           205.84|54.6|   never smoked|\n",
      "|10460|Female|79.0|           0|            0|         Yes|     Govt_job|         Urban|            77.08|35.0|           null|\n",
      "|64908|  Male|79.0|           0|            1|         Yes|      Private|         Urban|            57.08|22.0|formerly smoked|\n",
      "|63884|Female|37.0|           0|            0|         Yes|      Private|         Rural|           162.96|39.4|   never smoked|\n",
      "|37893|Female|37.0|           0|            0|         Yes|      Private|         Rural|             73.5|26.1|formerly smoked|\n",
      "|67855|Female|40.0|           0|            0|         Yes|      Private|         Rural|            95.04|42.4|   never smoked|\n",
      "|25774|  Male|35.0|           0|            0|          No|      Private|         Rural|            85.37|33.0|   never smoked|\n",
      "|19584|Female|20.0|           0|            0|          No|      Private|         Urban|            84.62|19.7|         smokes|\n",
      "|24447|Female|42.0|           0|            0|         Yes|      Private|         Rural|            82.67|22.5|   never smoked|\n",
      "|49589|Female|44.0|           0|            0|         Yes|     Govt_job|         Urban|            57.33|24.6|         smokes|\n",
      "|17986|Female|79.0|           0|            1|         Yes|Self-employed|         Urban|            67.84|25.2|         smokes|\n",
      "+-----+------+----+------------+-------------+------------+-------------+--------------+-----------------+----+---------------+\n",
      "only showing top 20 rows\n",
      "\n",
      "+-----+------+----+------------+-------------+------------+-------------+--------------+-----------------+----+---------------+\n",
      "|   id|gender| age|hypertension|heart_disease|ever_married|    work_type|Residence_type|avg_glucose_level| bmi| smoking_status|\n",
      "+-----+------+----+------------+-------------+------------+-------------+--------------+-----------------+----+---------------+\n",
      "|36306|  Male|80.0|           0|            0|         Yes|      Private|         Urban|            83.84|21.1|formerly smoked|\n",
      "|61829|Female|74.0|           0|            1|         Yes|Self-employed|         Rural|            179.5|26.0|formerly smoked|\n",
      "|14152|Female|14.0|           0|            0|          No|     children|         Rural|            95.16|21.2|           null|\n",
      "|12997|  Male|28.0|           0|            0|          No|      Private|         Urban|            94.76|23.4|           null|\n",
      "|40801|Female|63.0|           0|            0|         Yes|     Govt_job|         Rural|            83.57|27.6|   never smoked|\n",
      "| 9348|Female|66.0|           1|            0|         Yes|      Private|         Urban|           219.98|32.2|   never smoked|\n",
      "|51550|Female|49.0|           0|            0|         Yes|Self-employed|         Rural|            74.03|25.1|           null|\n",
      "|60512|  Male|46.0|           0|            0|         Yes|     Govt_job|         Urban|            120.8|32.5|   never smoked|\n",
      "|31309|Female|75.0|           0|            0|         Yes|Self-employed|         Rural|            78.71|28.0|   never smoked|\n",
      "|39199|  Male|75.0|           0|            0|         Yes|Self-employed|         Urban|             77.2|25.7|         smokes|\n",
      "|15160|Female|17.0|           0|            0|          No|      Private|         Rural|            78.16|21.9|           null|\n",
      "|21705|Female|10.0|           0|            0|          No|     children|         Urban|           107.23|19.4|           null|\n",
      "|19042|Female|47.0|           0|            0|         Yes|      Private|         Rural|             91.6|26.7|   never smoked|\n",
      "|12249|Female|42.0|           0|            0|         Yes|      Private|         Urban|            83.05|32.3|           null|\n",
      "|33104|Female|67.0|           0|            0|         Yes|     Govt_job|         Urban|            236.6|24.2|   never smoked|\n",
      "|55264|Female|52.0|           0|            0|          No|Self-employed|         Urban|           109.49|24.5|   never smoked|\n",
      "|29445|  Male|73.0|           0|            0|         Yes|Self-employed|         Rural|           109.66|40.0|           null|\n",
      "|49013|Female|19.0|           0|            0|          No|      Private|         Rural|            88.51|22.1|           null|\n",
      "|  276|  Male|15.0|           0|            0|          No|     children|         Rural|           101.36|22.3|           null|\n",
      "|47721|Female|37.0|           0|            0|         Yes|     Govt_job|         Urban|           165.44|36.1|formerly smoked|\n",
      "+-----+------+----+------------+-------------+------------+-------------+--------------+-----------------+----+---------------+\n",
      "only showing top 20 rows\n",
      "\n"
     ]
    }
   ],
   "source": [
    "#Displaying datasets\n",
    "dataset1.show()\n",
    "dataset2.show()"
   ]
  },
  {
   "cell_type": "code",
   "execution_count": 134,
   "metadata": {},
   "outputs": [
    {
     "data": {
      "text/plain": [
       "43400"
      ]
     },
     "execution_count": 134,
     "metadata": {},
     "output_type": "execute_result"
    }
   ],
   "source": [
    "#Counting number of rows of dataset1\n",
    "dataset1.count()"
   ]
  },
  {
   "cell_type": "code",
   "execution_count": 135,
   "metadata": {},
   "outputs": [
    {
     "data": {
      "text/plain": [
       "11"
      ]
     },
     "execution_count": 135,
     "metadata": {},
     "output_type": "execute_result"
    }
   ],
   "source": [
    "#Counting number of columns of dataset1\n",
    "len(dataset1.columns)"
   ]
  },
  {
   "cell_type": "code",
   "execution_count": 136,
   "metadata": {},
   "outputs": [
    {
     "data": {
      "text/plain": [
       "18601"
      ]
     },
     "execution_count": 136,
     "metadata": {},
     "output_type": "execute_result"
    }
   ],
   "source": [
    "#Counting number of rows of dataset2\n",
    "dataset2.count()"
   ]
  },
  {
   "cell_type": "code",
   "execution_count": 137,
   "metadata": {},
   "outputs": [
    {
     "data": {
      "text/plain": [
       "11"
      ]
     },
     "execution_count": 137,
     "metadata": {},
     "output_type": "execute_result"
    }
   ],
   "source": [
    "#Counting number of columns of dataset2\n",
    "len(dataset2.columns)"
   ]
  },
  {
   "cell_type": "code",
   "execution_count": 138,
   "metadata": {},
   "outputs": [
    {
     "name": "stdout",
     "output_type": "stream",
     "text": [
      "+-----+------+----+------------+-------------+------------+-------------+--------------+-----------------+----+---------------+\n",
      "|   id|gender| age|hypertension|heart_disease|ever_married|    work_type|Residence_type|avg_glucose_level| bmi| smoking_status|\n",
      "+-----+------+----+------------+-------------+------------+-------------+--------------+-----------------+----+---------------+\n",
      "|30669|  Male| 3.0|           0|            0|          No|     children|         Rural|            95.12|18.0|           null|\n",
      "|30468|  Male|58.0|           1|            0|         Yes|      Private|         Urban|            87.96|39.2|   never smoked|\n",
      "|16523|Female| 8.0|           0|            0|          No|      Private|         Urban|           110.89|17.6|           null|\n",
      "|56543|Female|70.0|           0|            0|         Yes|      Private|         Rural|            69.04|35.9|formerly smoked|\n",
      "|46136|  Male|14.0|           0|            0|          No| Never_worked|         Rural|           161.28|19.1|           null|\n",
      "|32257|Female|47.0|           0|            0|         Yes|      Private|         Urban|           210.95|50.1|           null|\n",
      "|52800|Female|52.0|           0|            0|         Yes|      Private|         Urban|            77.59|17.7|formerly smoked|\n",
      "|41413|Female|75.0|           0|            1|         Yes|Self-employed|         Rural|           243.53|27.0|   never smoked|\n",
      "|15266|Female|32.0|           0|            0|         Yes|      Private|         Rural|            77.67|32.3|         smokes|\n",
      "|28674|Female|74.0|           1|            0|         Yes|Self-employed|         Urban|           205.84|54.6|   never smoked|\n",
      "|10460|Female|79.0|           0|            0|         Yes|     Govt_job|         Urban|            77.08|35.0|           null|\n",
      "|64908|  Male|79.0|           0|            1|         Yes|      Private|         Urban|            57.08|22.0|formerly smoked|\n",
      "|63884|Female|37.0|           0|            0|         Yes|      Private|         Rural|           162.96|39.4|   never smoked|\n",
      "|37893|Female|37.0|           0|            0|         Yes|      Private|         Rural|             73.5|26.1|formerly smoked|\n",
      "|67855|Female|40.0|           0|            0|         Yes|      Private|         Rural|            95.04|42.4|   never smoked|\n",
      "|25774|  Male|35.0|           0|            0|          No|      Private|         Rural|            85.37|33.0|   never smoked|\n",
      "|19584|Female|20.0|           0|            0|          No|      Private|         Urban|            84.62|19.7|         smokes|\n",
      "|24447|Female|42.0|           0|            0|         Yes|      Private|         Rural|            82.67|22.5|   never smoked|\n",
      "|49589|Female|44.0|           0|            0|         Yes|     Govt_job|         Urban|            57.33|24.6|         smokes|\n",
      "|17986|Female|79.0|           0|            1|         Yes|Self-employed|         Urban|            67.84|25.2|         smokes|\n",
      "+-----+------+----+------------+-------------+------------+-------------+--------------+-----------------+----+---------------+\n",
      "only showing top 20 rows\n",
      "\n"
     ]
    }
   ],
   "source": [
    "#Appending two datasets\n",
    "concat = dataset1.union(dataset2)\n",
    "concat.show()"
   ]
  },
  {
   "cell_type": "code",
   "execution_count": 139,
   "metadata": {},
   "outputs": [
    {
     "data": {
      "text/plain": [
       "62001"
      ]
     },
     "execution_count": 139,
     "metadata": {},
     "output_type": "execute_result"
    }
   ],
   "source": [
    "#Counting number of rows of the merged dataset\n",
    "concat.count()"
   ]
  },
  {
   "cell_type": "code",
   "execution_count": 140,
   "metadata": {},
   "outputs": [
    {
     "data": {
      "text/plain": [
       "11"
      ]
     },
     "execution_count": 140,
     "metadata": {},
     "output_type": "execute_result"
    }
   ],
   "source": [
    "#Counting number of columns of the merged dataset\n",
    "len(concat.columns)"
   ]
  },
  {
   "cell_type": "code",
   "execution_count": 141,
   "metadata": {},
   "outputs": [
    {
     "name": "stdout",
     "output_type": "stream",
     "text": [
      "+------+-----+\n",
      "|gender|count|\n",
      "+------+-----+\n",
      "|Female|36622|\n",
      "| Other|   13|\n",
      "|  Male|25366|\n",
      "+------+-----+\n",
      "\n"
     ]
    }
   ],
   "source": [
    "#Counting number of records in each type of attribute gender\n",
    "concat.groupby('gender').count().show()"
   ]
  },
  {
   "cell_type": "code",
   "execution_count": 142,
   "metadata": {},
   "outputs": [
    {
     "name": "stdout",
     "output_type": "stream",
     "text": [
      "+------------+-----+\n",
      "|hypertension|count|\n",
      "+------------+-----+\n",
      "|           1| 5794|\n",
      "|           0|56207|\n",
      "+------------+-----+\n",
      "\n"
     ]
    }
   ],
   "source": [
    "#Counting number of records in each type of attribute hypertension\n",
    "concat.groupby('hypertension').count().show()"
   ]
  },
  {
   "cell_type": "code",
   "execution_count": 143,
   "metadata": {},
   "outputs": [
    {
     "name": "stdout",
     "output_type": "stream",
     "text": [
      "+-------------+-----+\n",
      "|    work_type|count|\n",
      "+-------------+-----+\n",
      "| Never_worked|  252|\n",
      "|Self-employed| 9654|\n",
      "|      Private|35584|\n",
      "|     children| 8769|\n",
      "|     Govt_job| 7742|\n",
      "+-------------+-----+\n",
      "\n"
     ]
    }
   ],
   "source": [
    "#Counting number of records in each type of attribute work_type\n",
    "concat.groupby('work_type').count().show()"
   ]
  },
  {
   "cell_type": "code",
   "execution_count": 144,
   "metadata": {},
   "outputs": [
    {
     "name": "stdout",
     "output_type": "stream",
     "text": [
      "+--------------+-----+\n",
      "|residence_type|count|\n",
      "+--------------+-----+\n",
      "|         Urban|31066|\n",
      "|         Rural|30935|\n",
      "+--------------+-----+\n",
      "\n"
     ]
    }
   ],
   "source": [
    "#Counting number of records in each type of attribute residence_type\n",
    "concat.groupby('residence_type').count().show()"
   ]
  },
  {
   "cell_type": "code",
   "execution_count": 145,
   "metadata": {},
   "outputs": [
    {
     "name": "stdout",
     "output_type": "stream",
     "text": [
      "+------------+-----+\n",
      "|ever_married|count|\n",
      "+------------+-----+\n",
      "|          No|22124|\n",
      "|         Yes|39877|\n",
      "+------------+-----+\n",
      "\n"
     ]
    }
   ],
   "source": [
    "#Counting number of records in each type of attribute ever_married\n",
    "concat.groupby('ever_married').count().show()"
   ]
  },
  {
   "cell_type": "code",
   "execution_count": 146,
   "metadata": {},
   "outputs": [
    {
     "name": "stdout",
     "output_type": "stream",
     "text": [
      "+---------------+-----+\n",
      "| smoking_status|count|\n",
      "+---------------+-----+\n",
      "|           null|19043|\n",
      "|         smokes| 9319|\n",
      "|   never smoked|22886|\n",
      "|formerly smoked|10753|\n",
      "+---------------+-----+\n",
      "\n"
     ]
    }
   ],
   "source": [
    "#Counting number of records in each type of attribute smoking_status\n",
    "concat.groupby('smoking_status').count().show()"
   ]
  },
  {
   "cell_type": "code",
   "execution_count": 147,
   "metadata": {},
   "outputs": [
    {
     "name": "stdout",
     "output_type": "stream",
     "text": [
      "+-------------+-----+\n",
      "|heart_disease|count|\n",
      "+-------------+-----+\n",
      "|            1| 2956|\n",
      "|            0|59045|\n",
      "+-------------+-----+\n",
      "\n"
     ]
    }
   ],
   "source": [
    "#Counting number of records in each type of attribute heart_disease\n",
    "concat.groupby('heart_disease').count().show()"
   ]
  },
  {
   "cell_type": "code",
   "execution_count": 148,
   "metadata": {},
   "outputs": [
    {
     "name": "stdout",
     "output_type": "stream",
     "text": [
      "+-------+-----------------+------+------------------+-------------------+-------------------+------------+---------+--------------+-----------------+-----------------+---------------+\n",
      "|summary|               id|gender|               age|       hypertension|      heart_disease|ever_married|work_type|Residence_type|avg_glucose_level|              bmi| smoking_status|\n",
      "+-------+-----------------+------+------------------+-------------------+-------------------+------------+---------+--------------+-----------------+-----------------+---------------+\n",
      "|  count|            62001| 62001|             62001|              62001|              62001|       62001|    62001|         62001|            62001|            59948|          42958|\n",
      "|   mean|36452.51481427719|  null|42.169475331042975|0.09345010564345736|0.04767665037660683|        null|     null|          null| 104.453831712391| 28.5870988189766|           null|\n",
      "| stddev|21067.15594488889|  null|22.522099535371346| 0.2910645114143387|0.21308289396711122|        null|     null|          null| 42.9605371949353|7.766122190731495|           null|\n",
      "|    min|                1|Female|              0.08|                  0|                  0|          No| Govt_job|         Rural|             55.0|             10.1|formerly smoked|\n",
      "|    max|            72943| Other|              82.0|                  1|                  1|         Yes| children|         Urban|           291.05|             97.6|         smokes|\n",
      "+-------+-----------------+------+------------------+-------------------+-------------------+------------+---------+--------------+-----------------+-----------------+---------------+\n",
      "\n"
     ]
    }
   ],
   "source": [
    "#Statistical summary of data\n",
    "concat.describe().show()"
   ]
  },
  {
   "cell_type": "code",
   "execution_count": 149,
   "metadata": {},
   "outputs": [
    {
     "name": "stdout",
     "output_type": "stream",
     "text": [
      "+--------------------+-----+----+\n",
      "|gender_heart_disease|    0|   1|\n",
      "+--------------------+-----+----+\n",
      "|               Other|   13|   0|\n",
      "|                Male|23606|1760|\n",
      "|              Female|35426|1196|\n",
      "+--------------------+-----+----+\n",
      "\n"
     ]
    }
   ],
   "source": [
    "#Comparison between different types of gender having heart attacks\n",
    "concat.crosstab('gender', 'heart_disease').show()"
   ]
  },
  {
   "cell_type": "code",
   "execution_count": 150,
   "metadata": {},
   "outputs": [
    {
     "name": "stdout",
     "output_type": "stream",
     "text": [
      "+----------------------------+-----+---+\n",
      "|smoking_status_heart_disease|    0|  1|\n",
      "+----------------------------+-----+---+\n",
      "|             formerly smoked| 9818|935|\n",
      "|                      smokes| 8713|606|\n",
      "|                never smoked|22024|862|\n",
      "|                        null|18490|553|\n",
      "+----------------------------+-----+---+\n",
      "\n"
     ]
    }
   ],
   "source": [
    "#Comparison between different types of smoking status having heart attacks\n",
    "concat.crosstab('smoking_status', 'heart_disease').show()"
   ]
  },
  {
   "cell_type": "code",
   "execution_count": 151,
   "metadata": {},
   "outputs": [
    {
     "name": "stdout",
     "output_type": "stream",
     "text": [
      "+--------------------------+-----+----+\n",
      "|ever_married_heart_disease|    0|   1|\n",
      "+--------------------------+-----+----+\n",
      "|                        No|21893| 231|\n",
      "|                       Yes|37152|2725|\n",
      "+--------------------------+-----+----+\n",
      "\n"
     ]
    }
   ],
   "source": [
    "#Comparison between different types of marital status having heart attacks\n",
    "concat.crosstab('ever_married', 'heart_disease').show()"
   ]
  },
  {
   "cell_type": "code",
   "execution_count": 152,
   "metadata": {},
   "outputs": [
    {
     "name": "stdout",
     "output_type": "stream",
     "text": [
      "+-----------------------+-----+----+\n",
      "|work_type_heart_disease|    0|   1|\n",
      "+-----------------------+-----+----+\n",
      "|               children| 8765|   4|\n",
      "|           Never_worked|  251|   1|\n",
      "|          Self-employed| 8718| 936|\n",
      "|                Private|33946|1638|\n",
      "|               Govt_job| 7365| 377|\n",
      "+-----------------------+-----+----+\n",
      "\n"
     ]
    }
   ],
   "source": [
    "#Comparison between different types of work type having heart attacks\n",
    "concat.crosstab('work_type', 'heart_disease').show()"
   ]
  },
  {
   "cell_type": "code",
   "execution_count": 153,
   "metadata": {},
   "outputs": [
    {
     "name": "stdout",
     "output_type": "stream",
     "text": [
      "+----------------------------+-----+----+\n",
      "|residence_type_heart_disease|    0|   1|\n",
      "+----------------------------+-----+----+\n",
      "|                       Rural|29441|1494|\n",
      "|                       Urban|29604|1462|\n",
      "+----------------------------+-----+----+\n",
      "\n"
     ]
    }
   ],
   "source": [
    "concat.crosstab('residence_type', 'heart_disease').show()"
   ]
  },
  {
   "cell_type": "code",
   "execution_count": 154,
   "metadata": {},
   "outputs": [
    {
     "name": "stdout",
     "output_type": "stream",
     "text": [
      "+--------------------------+-----+----+\n",
      "|hypertension_heart_disease|    0|   1|\n",
      "+--------------------------+-----+----+\n",
      "|                         1| 5040| 754|\n",
      "|                         0|54005|2202|\n",
      "+--------------------------+-----+----+\n",
      "\n"
     ]
    }
   ],
   "source": [
    "#Comparison between patients with or without hypertension having heart attacks\n",
    "concat.crosstab('hypertension', 'heart_disease').show()"
   ]
  },
  {
   "cell_type": "code",
   "execution_count": 155,
   "metadata": {},
   "outputs": [
    {
     "data": {
      "text/plain": [
       "['gender',\n",
       " 'age',\n",
       " 'hypertension',\n",
       " 'heart_disease',\n",
       " 'ever_married',\n",
       " 'work_type',\n",
       " 'Residence_type',\n",
       " 'avg_glucose_level',\n",
       " 'bmi',\n",
       " 'smoking_status']"
      ]
     },
     "execution_count": 155,
     "metadata": {},
     "output_type": "execute_result"
    }
   ],
   "source": [
    "#Dropping column 'id'\n",
    "concat.drop('id').columns"
   ]
  },
  {
   "cell_type": "code",
   "execution_count": 156,
   "metadata": {},
   "outputs": [],
   "source": [
    "from pyspark.sql.functions import col,sum"
   ]
  },
  {
   "cell_type": "code",
   "execution_count": 157,
   "metadata": {},
   "outputs": [
    {
     "name": "stdout",
     "output_type": "stream",
     "text": [
      "+---+------+---+------------+-------------+------------+---------+--------------+-----------------+----+--------------+\n",
      "| id|gender|age|hypertension|heart_disease|ever_married|work_type|Residence_type|avg_glucose_level| bmi|smoking_status|\n",
      "+---+------+---+------------+-------------+------------+---------+--------------+-----------------+----+--------------+\n",
      "|  0|     0|  0|           0|            0|           0|        0|             0|                0|2053|         19043|\n",
      "+---+------+---+------------+-------------+------------+---------+--------------+-----------------+----+--------------+\n",
      "\n"
     ]
    }
   ],
   "source": [
    "#Finding missing values\n",
    "concat.select(*(sum(col(c).isNull().cast(\"int\")).alias(c) for c in concat.columns)).show()"
   ]
  },
  {
   "cell_type": "code",
   "execution_count": 158,
   "metadata": {},
   "outputs": [
    {
     "data": {
      "text/plain": [
       "0"
      ]
     },
     "execution_count": 158,
     "metadata": {},
     "output_type": "execute_result"
    }
   ],
   "source": [
    "#Identifying outliers in attribute bmi\n",
    "df1 = concat.filter(concat['bmi'] < 10).select('bmi')\n",
    "df1.count()"
   ]
  },
  {
   "cell_type": "code",
   "execution_count": 159,
   "metadata": {},
   "outputs": [
    {
     "data": {
      "text/plain": [
       "838"
      ]
     },
     "execution_count": 159,
     "metadata": {},
     "output_type": "execute_result"
    }
   ],
   "source": [
    "#Identifying outliers in attribute bmi\n",
    "df2 = concat.filter(concat['bmi'] > 50).select('bmi')\n",
    "df2.count()"
   ]
  },
  {
   "cell_type": "code",
   "execution_count": 160,
   "metadata": {},
   "outputs": [
    {
     "data": {
      "text/plain": [
       "0"
      ]
     },
     "execution_count": 160,
     "metadata": {},
     "output_type": "execute_result"
    }
   ],
   "source": [
    "#Identifying outliers in attribute age\n",
    "df3 = concat.filter(concat['age'] < 0).select('age')\n",
    "df3.count()"
   ]
  },
  {
   "cell_type": "code",
   "execution_count": 161,
   "metadata": {},
   "outputs": [
    {
     "data": {
      "text/plain": [
       "0"
      ]
     },
     "execution_count": 161,
     "metadata": {},
     "output_type": "execute_result"
    }
   ],
   "source": [
    "#Identifying outliers in attribute age\n",
    "df4 = concat.filter(concat['age'] > 100).select('age')\n",
    "df4.count()"
   ]
  },
  {
   "cell_type": "code",
   "execution_count": 162,
   "metadata": {},
   "outputs": [
    {
     "data": {
      "text/plain": [
       "2443"
      ]
     },
     "execution_count": 162,
     "metadata": {},
     "output_type": "execute_result"
    }
   ],
   "source": [
    "#Identifying outliers in attribute average glucose level\n",
    "df5 = concat.filter(concat['avg_glucose_level'] < 60).select('avg_glucose_level')\n",
    "df5.count()"
   ]
  },
  {
   "cell_type": "code",
   "execution_count": 163,
   "metadata": {},
   "outputs": [
    {
     "data": {
      "text/plain": [
       "75"
      ]
     },
     "execution_count": 163,
     "metadata": {},
     "output_type": "execute_result"
    }
   ],
   "source": [
    "#Identifying outliers in attribute average glucose level\n",
    "df6 = concat.filter(concat['avg_glucose_level'] > 260).select('avg_glucose_level')\n",
    "df6.count()"
   ]
  },
  {
   "cell_type": "code",
   "execution_count": 164,
   "metadata": {},
   "outputs": [
    {
     "data": {
      "text/plain": [
       "41495"
      ]
     },
     "execution_count": 164,
     "metadata": {},
     "output_type": "execute_result"
    }
   ],
   "source": [
    "#Removing missing values\n",
    "clean2 = concat.dropna()\n",
    "clean2.count()"
   ]
  },
  {
   "cell_type": "code",
   "execution_count": 165,
   "metadata": {},
   "outputs": [
    {
     "data": {
      "text/plain": [
       "41495"
      ]
     },
     "execution_count": 165,
     "metadata": {},
     "output_type": "execute_result"
    }
   ],
   "source": [
    "#Removing outliers in attribute bmi\n",
    "c1 = clean2.filter(concat['bmi'] > 10).select('id','gender','age','hypertension','heart_disease','work_type','Residence_type','ever_married','bmi','avg_glucose_level','smoking_status')\n",
    "c1.count()"
   ]
  },
  {
   "cell_type": "code",
   "execution_count": 166,
   "metadata": {},
   "outputs": [
    {
     "data": {
      "text/plain": [
       "40828"
      ]
     },
     "execution_count": 166,
     "metadata": {},
     "output_type": "execute_result"
    }
   ],
   "source": [
    "#Removing outliers in attribute bmi\n",
    "c2 = c1.filter(concat['bmi'] < 50).select('id','gender','age','hypertension','heart_disease','work_type','Residence_type','ever_married','bmi','avg_glucose_level','smoking_status')\n",
    "c2.count()"
   ]
  },
  {
   "cell_type": "code",
   "execution_count": 167,
   "metadata": {},
   "outputs": [
    {
     "data": {
      "text/plain": [
       "40828"
      ]
     },
     "execution_count": 167,
     "metadata": {},
     "output_type": "execute_result"
    }
   ],
   "source": [
    "#Removing outliers in attribute age\n",
    "c3 = c2.filter(concat['age'] > 0).select('id','gender','age','hypertension','heart_disease','work_type','Residence_type','ever_married','bmi','avg_glucose_level','smoking_status')\n",
    "c3.count()"
   ]
  },
  {
   "cell_type": "code",
   "execution_count": 168,
   "metadata": {},
   "outputs": [
    {
     "data": {
      "text/plain": [
       "40828"
      ]
     },
     "execution_count": 168,
     "metadata": {},
     "output_type": "execute_result"
    }
   ],
   "source": [
    "#Removing outliers in attribute age\n",
    "c4 = c3.filter(concat['age'] <100).select('id','gender','age','hypertension','heart_disease','work_type','Residence_type','ever_married','bmi','avg_glucose_level','smoking_status')\n",
    "c4.count()"
   ]
  },
  {
   "cell_type": "code",
   "execution_count": 169,
   "metadata": {},
   "outputs": [
    {
     "data": {
      "text/plain": [
       "39197"
      ]
     },
     "execution_count": 169,
     "metadata": {},
     "output_type": "execute_result"
    }
   ],
   "source": [
    "#Removing outliers in attribute average glucose level\n",
    "c5 = c4.filter(concat['avg_glucose_level'] > 60).select('id','gender','age','hypertension','heart_disease','work_type','Residence_type','ever_married','bmi','avg_glucose_level','smoking_status')\n",
    "c5.count()"
   ]
  },
  {
   "cell_type": "code",
   "execution_count": 170,
   "metadata": {},
   "outputs": [
    {
     "data": {
      "text/plain": [
       "39137"
      ]
     },
     "execution_count": 170,
     "metadata": {},
     "output_type": "execute_result"
    }
   ],
   "source": [
    "#Removing outliers in attribute average glucose level\n",
    "c6 = c5.filter(concat['avg_glucose_level'] < 260).select('id','gender','age','hypertension','heart_disease','work_type','Residence_type','ever_married','bmi','avg_glucose_level','smoking_status')\n",
    "c6.count()"
   ]
  },
  {
   "cell_type": "code",
   "execution_count": 171,
   "metadata": {},
   "outputs": [],
   "source": [
    "#Selecting columns to be considered during analysis\n",
    "clean = c6.select(['gender','age','hypertension','heart_disease','ever_married','work_type','Residence_type','avg_glucose_level','bmi','smoking_status'])"
   ]
  },
  {
   "cell_type": "code",
   "execution_count": 172,
   "metadata": {},
   "outputs": [
    {
     "data": {
      "text/plain": [
       "39137"
      ]
     },
     "execution_count": 172,
     "metadata": {},
     "output_type": "execute_result"
    }
   ],
   "source": [
    "clean.count()"
   ]
  },
  {
   "cell_type": "code",
   "execution_count": 173,
   "metadata": {},
   "outputs": [
    {
     "data": {
      "text/plain": [
       "10"
      ]
     },
     "execution_count": 173,
     "metadata": {},
     "output_type": "execute_result"
    }
   ],
   "source": [
    "len(clean.columns)"
   ]
  },
  {
   "cell_type": "code",
   "execution_count": 174,
   "metadata": {},
   "outputs": [
    {
     "name": "stdout",
     "output_type": "stream",
     "text": [
      "+------+----+------------+-------------+------------+-------------+--------------+-----------------+----+---------------+\n",
      "|gender| age|hypertension|heart_disease|ever_married|    work_type|Residence_type|avg_glucose_level| bmi| smoking_status|\n",
      "+------+----+------------+-------------+------------+-------------+--------------+-----------------+----+---------------+\n",
      "|  Male|58.0|           1|            0|         Yes|      Private|         Urban|            87.96|39.2|   never smoked|\n",
      "|Female|70.0|           0|            0|         Yes|      Private|         Rural|            69.04|35.9|formerly smoked|\n",
      "|Female|52.0|           0|            0|         Yes|      Private|         Urban|            77.59|17.7|formerly smoked|\n",
      "|Female|75.0|           0|            1|         Yes|Self-employed|         Rural|           243.53|27.0|   never smoked|\n",
      "|Female|32.0|           0|            0|         Yes|      Private|         Rural|            77.67|32.3|         smokes|\n",
      "|Female|37.0|           0|            0|         Yes|      Private|         Rural|           162.96|39.4|   never smoked|\n",
      "|Female|37.0|           0|            0|         Yes|      Private|         Rural|             73.5|26.1|formerly smoked|\n",
      "|Female|40.0|           0|            0|         Yes|      Private|         Rural|            95.04|42.4|   never smoked|\n",
      "|  Male|35.0|           0|            0|          No|      Private|         Rural|            85.37|33.0|   never smoked|\n",
      "|Female|20.0|           0|            0|          No|      Private|         Urban|            84.62|19.7|         smokes|\n",
      "|Female|42.0|           0|            0|         Yes|      Private|         Rural|            82.67|22.5|   never smoked|\n",
      "|Female|79.0|           0|            1|         Yes|Self-employed|         Urban|            67.84|25.2|         smokes|\n",
      "|Female|49.0|           0|            0|         Yes|      Private|         Rural|            60.22|31.5|         smokes|\n",
      "|  Male|71.0|           0|            0|         Yes|      Private|         Urban|           198.21|27.3|formerly smoked|\n",
      "|Female|59.0|           0|            0|         Yes|      Private|         Urban|           109.82|23.7|   never smoked|\n",
      "|Female|25.0|           0|            0|         Yes|      Private|         Urban|            60.84|24.5|   never smoked|\n",
      "|Female|67.0|           0|            0|         Yes|     Govt_job|         Rural|            94.61|28.4|         smokes|\n",
      "|Female|38.0|           0|            0|          No|      Private|         Rural|            97.49|26.9|   never smoked|\n",
      "|Female|54.0|           0|            0|         Yes|      Private|         Rural|           206.72|26.7|   never smoked|\n",
      "|Female|70.0|           0|            0|         Yes|Self-employed|         Rural|           214.45|31.2|   never smoked|\n",
      "+------+----+------------+-------------+------------+-------------+--------------+-----------------+----+---------------+\n",
      "only showing top 20 rows\n",
      "\n"
     ]
    }
   ],
   "source": [
    "#Displaying the clean data\n",
    "clean.show()"
   ]
  },
  {
   "cell_type": "code",
   "execution_count": 175,
   "metadata": {},
   "outputs": [
    {
     "name": "stdout",
     "output_type": "stream",
     "text": [
      "+-------+------------------+\n",
      "|summary|               age|\n",
      "+-------+------------------+\n",
      "|  count|             62001|\n",
      "|   mean|42.169475331042975|\n",
      "| stddev|22.522099535371346|\n",
      "|    min|              0.08|\n",
      "|    max|              82.0|\n",
      "+-------+------------------+\n",
      "\n"
     ]
    }
   ],
   "source": [
    "#Summarizing age attribute statistically\n",
    "concat.describe('age').show()"
   ]
  },
  {
   "cell_type": "code",
   "execution_count": 176,
   "metadata": {},
   "outputs": [
    {
     "name": "stdout",
     "output_type": "stream",
     "text": [
      "+-------+-----------------+\n",
      "|summary|avg_glucose_level|\n",
      "+-------+-----------------+\n",
      "|  count|            62001|\n",
      "|   mean| 104.453831712391|\n",
      "| stddev| 42.9605371949353|\n",
      "|    min|             55.0|\n",
      "|    max|           291.05|\n",
      "+-------+-----------------+\n",
      "\n"
     ]
    }
   ],
   "source": [
    "#Summarizing avergae glucose level attribute statistically\n",
    "concat.describe('avg_glucose_level').show()"
   ]
  },
  {
   "cell_type": "code",
   "execution_count": 177,
   "metadata": {},
   "outputs": [
    {
     "name": "stdout",
     "output_type": "stream",
     "text": [
      "+-------+-----------------+\n",
      "|summary|              bmi|\n",
      "+-------+-----------------+\n",
      "|  count|            59948|\n",
      "|   mean| 28.5870988189766|\n",
      "| stddev|7.766122190731495|\n",
      "|    min|             10.1|\n",
      "|    max|             97.6|\n",
      "+-------+-----------------+\n",
      "\n"
     ]
    }
   ],
   "source": [
    "#Summarizing bmi attribute statistically\n",
    "concat.describe('bmi').show()"
   ]
  },
  {
   "cell_type": "code",
   "execution_count": 178,
   "metadata": {},
   "outputs": [
    {
     "data": {
      "text/plain": [
       "39137"
      ]
     },
     "execution_count": 178,
     "metadata": {},
     "output_type": "execute_result"
    }
   ],
   "source": [
    "#Showing records after cleaning\n",
    "clean.count()"
   ]
  },
  {
   "cell_type": "code",
   "execution_count": 179,
   "metadata": {},
   "outputs": [],
   "source": [
    "#Checking accuracy of Linear Regression for data mining on the cleaned dataset"
   ]
  },
  {
   "cell_type": "code",
   "execution_count": 180,
   "metadata": {},
   "outputs": [],
   "source": [
    "from pyspark.ml.regression import LinearRegression"
   ]
  },
  {
   "cell_type": "code",
   "execution_count": 181,
   "metadata": {},
   "outputs": [],
   "source": [
    "from pyspark.ml.linalg import Vectors\n",
    "from pyspark.ml.feature import VectorAssembler"
   ]
  },
  {
   "cell_type": "code",
   "execution_count": 182,
   "metadata": {},
   "outputs": [],
   "source": [
    "from pyspark.ml.feature import StringIndexer, OneHotEncoder\n",
    "\n",
    "varIdxer = StringIndexer(inputCol='gender',outputCol='varIdgender').fit(clean)\n",
    "clean = varIdxer.transform(clean)"
   ]
  },
  {
   "cell_type": "code",
   "execution_count": 183,
   "metadata": {},
   "outputs": [],
   "source": [
    "varIdxer = StringIndexer(inputCol='work_type',outputCol='varIdworktype').fit(clean)\n",
    "clean = varIdxer2.transform(clean)"
   ]
  },
  {
   "cell_type": "code",
   "execution_count": 184,
   "metadata": {},
   "outputs": [],
   "source": [
    "varIdxer = StringIndexer(inputCol='Residence_type',outputCol='varIdresidencetype').fit(clean)\n",
    "clean = varIdxer3.transform(clean)"
   ]
  },
  {
   "cell_type": "code",
   "execution_count": 185,
   "metadata": {},
   "outputs": [],
   "source": [
    "varIdxer = StringIndexer(inputCol='smoking_status',outputCol='varIdsmokingstatus').fit(clean)\n",
    "clean = varIdxer4.transform(clean)"
   ]
  },
  {
   "cell_type": "code",
   "execution_count": 186,
   "metadata": {},
   "outputs": [],
   "source": [
    "varIdxer = StringIndexer(inputCol='ever_married',outputCol='varIdmarried').fit(clean)\n",
    "clean = varIdxer5.transform(clean)"
   ]
  },
  {
   "cell_type": "code",
   "execution_count": 187,
   "metadata": {},
   "outputs": [],
   "source": [
    "clean = OneHotEncoder(inputCol=\"varIdgender\", outputCol=\"varCatgender\").transform(clean)"
   ]
  },
  {
   "cell_type": "code",
   "execution_count": 188,
   "metadata": {},
   "outputs": [],
   "source": [
    "clean = OneHotEncoder(inputCol=\"varIdworktype\", outputCol=\"varCatworktype\").transform(clean)"
   ]
  },
  {
   "cell_type": "code",
   "execution_count": 189,
   "metadata": {},
   "outputs": [],
   "source": [
    "clean = OneHotEncoder(inputCol=\"varIdresidencetype\", outputCol=\"varCatresidencetype\").transform(clean)"
   ]
  },
  {
   "cell_type": "code",
   "execution_count": 190,
   "metadata": {},
   "outputs": [],
   "source": [
    "clean = OneHotEncoder(inputCol=\"varIdsmokingstatus\", outputCol=\"varCatsmokingstatus\").transform(clean)"
   ]
  },
  {
   "cell_type": "code",
   "execution_count": 191,
   "metadata": {},
   "outputs": [],
   "source": [
    "clean = OneHotEncoder(inputCol=\"varIdmarried\", outputCol=\"varCatmarried\").transform(clean)"
   ]
  },
  {
   "cell_type": "code",
   "execution_count": 192,
   "metadata": {},
   "outputs": [],
   "source": [
    "assembler = VectorAssembler(\n",
    "    inputCols=['age','hypertension','bmi','avg_glucose_level','varCatgender','varCatworktype','varCatresidencetype','varCatsmokingstatus','varCatmarried'],\n",
    "    outputCol='features')"
   ]
  },
  {
   "cell_type": "code",
   "execution_count": 193,
   "metadata": {},
   "outputs": [],
   "source": [
    "output = assembler.transform(clean)"
   ]
  },
  {
   "cell_type": "code",
   "execution_count": 194,
   "metadata": {},
   "outputs": [],
   "source": [
    "output.printSchema()\n",
    "output.head(1)"
   ]
  },
  {
   "cell_type": "code",
   "execution_count": 195,
   "metadata": {},
   "outputs": [],
   "source": [
    "final_data = output.select(\"features\",'heart_disease')\n",
    "final_data.show()"
   ]
  },
  {
   "cell_type": "code",
   "execution_count": 196,
   "metadata": {},
   "outputs": [],
   "source": [
    "train_data,test_data = final_data.randomSplit([0.7,0.3])"
   ]
  },
  {
   "cell_type": "code",
   "execution_count": 197,
   "metadata": {},
   "outputs": [],
   "source": [
    "lr = LinearRegression(labelCol='heart_disease')"
   ]
  },
  {
   "cell_type": "code",
   "execution_count": 198,
   "metadata": {},
   "outputs": [],
   "source": [
    "lrModel = lr.fit(train_data)"
   ]
  },
  {
   "cell_type": "code",
   "execution_count": 199,
   "metadata": {},
   "outputs": [],
   "source": [
    "print(\"Coefficients: {} Intercept: {}\".format(lrModel.coefficients,lrModel.intercept))"
   ]
  },
  {
   "cell_type": "code",
   "execution_count": 200,
   "metadata": {},
   "outputs": [],
   "source": [
    "test_results = lrModel.evaluate(test_data)"
   ]
  },
  {
   "cell_type": "code",
   "execution_count": 201,
   "metadata": {},
   "outputs": [],
   "source": [
    "test_results.residuals.show()\n",
    "print(\"RSME: {}\".format(test_results.rootMeanSquaredError))"
   ]
  },
  {
   "cell_type": "code",
   "execution_count": 202,
   "metadata": {},
   "outputs": [],
   "source": [
    "print(\"R2: {}\".format(test_results.r2))"
   ]
  },
  {
   "cell_type": "code",
   "execution_count": 203,
   "metadata": {},
   "outputs": [],
   "source": [
    "#Checking accuracy of Logistic Regression for data mining on the cleaned dataset"
   ]
  },
  {
   "cell_type": "code",
   "execution_count": 204,
   "metadata": {},
   "outputs": [],
   "source": [
    "from pyspark.ml.classification import LogisticRegression"
   ]
  },
  {
   "cell_type": "code",
   "execution_count": 205,
   "metadata": {},
   "outputs": [],
   "source": [
    "from pyspark.ml.feature import (VectorAssembler,VectorIndexer,\n",
    "                                OneHotEncoder,StringIndexer)"
   ]
  },
  {
   "cell_type": "code",
   "execution_count": 206,
   "metadata": {},
   "outputs": [],
   "source": [
    "gender_indexer = StringIndexer(inputCol='gender',outputCol='GenderIndex')\n",
    "gender_encoder = OneHotEncoder(inputCol='GenderIndex',outputCol='GenderVec')"
   ]
  },
  {
   "cell_type": "code",
   "execution_count": 207,
   "metadata": {},
   "outputs": [],
   "source": [
    "work_indexer = StringIndexer(inputCol='work_type',outputCol='WorkTypeIndex')\n",
    "work_encoder = OneHotEncoder(inputCol='WorkTypeIndex',outputCol='WorkTypeVec')"
   ]
  },
  {
   "cell_type": "code",
   "execution_count": 208,
   "metadata": {},
   "outputs": [],
   "source": [
    "married_indexer = StringIndexer(inputCol='ever_married',outputCol='EverMarriedIndex')\n",
    "married_encoder = OneHotEncoder(inputCol='EverMarriedIndex',outputCol='EverMarriedVec')"
   ]
  },
  {
   "cell_type": "code",
   "execution_count": 209,
   "metadata": {},
   "outputs": [],
   "source": [
    "residence_indexer = StringIndexer(inputCol='Residence_type',outputCol='ResidenceTypeIndex')\n",
    "residence_encoder = OneHotEncoder(inputCol='ResidenceTypeIndex',outputCol='ResidenceTypeVec')"
   ]
  },
  {
   "cell_type": "code",
   "execution_count": 210,
   "metadata": {},
   "outputs": [],
   "source": [
    "smoking_indexer = StringIndexer(inputCol='smoking_status',outputCol='SmokingStatusIndex')\n",
    "smoking_encoder = OneHotEncoder(inputCol='SmokingStatusIndex',outputCol='SmokingStatusVec')"
   ]
  },
  {
   "cell_type": "code",
   "execution_count": 211,
   "metadata": {},
   "outputs": [],
   "source": [
    "assembler = VectorAssembler(inputCols=['age',\n",
    " 'GenderVec',\n",
    " 'bmi',\n",
    " 'avg_glucose_level',\n",
    " 'hypertension',\n",
    " 'WorkTypeVec',\n",
    " 'EverMarriedVec','ResidenceTypeVec', 'SmokingStatusVec'],outputCol='features')"
   ]
  },
  {
   "cell_type": "code",
   "execution_count": 212,
   "metadata": {},
   "outputs": [],
   "source": [
    "from pyspark.ml import Pipeline"
   ]
  },
  {
   "cell_type": "code",
   "execution_count": 213,
   "metadata": {},
   "outputs": [],
   "source": [
    "log_reg_heart = LogisticRegression(featuresCol='features',labelCol='heart_disease')"
   ]
  },
  {
   "cell_type": "code",
   "execution_count": 214,
   "metadata": {},
   "outputs": [],
   "source": [
    "pipeline = Pipeline(stages=[gender_indexer,work_indexer,married_indexer,residence_indexer,smoking_indexer,\n",
    "                           gender_encoder,work_encoder,married_encoder,residence_encoder,smoking_encoder,\n",
    "                           assembler,log_reg_heart])"
   ]
  },
  {
   "cell_type": "code",
   "execution_count": 215,
   "metadata": {},
   "outputs": [],
   "source": [
    "train_heart_data, test_heart_data = clean.randomSplit([0.7,.3])"
   ]
  },
  {
   "cell_type": "code",
   "execution_count": 216,
   "metadata": {},
   "outputs": [],
   "source": [
    "fit_model = pipeline.fit(train_heart_data)"
   ]
  },
  {
   "cell_type": "code",
   "execution_count": 217,
   "metadata": {},
   "outputs": [],
   "source": [
    "results = fit_model.transform(test_heart_data)"
   ]
  },
  {
   "cell_type": "code",
   "execution_count": 218,
   "metadata": {},
   "outputs": [],
   "source": [
    "from pyspark.ml.evaluation import BinaryClassificationEvaluator\n",
    "\n",
    "my_eval = BinaryClassificationEvaluator(rawPredictionCol='prediction',\n",
    "                                       labelCol='heart_disease')"
   ]
  },
  {
   "cell_type": "code",
   "execution_count": 219,
   "metadata": {},
   "outputs": [
    {
     "name": "stdout",
     "output_type": "stream",
     "text": [
      "+-------------+----------+\n",
      "|heart_disease|prediction|\n",
      "+-------------+----------+\n",
      "|            0|       0.0|\n",
      "|            0|       0.0|\n",
      "|            0|       0.0|\n",
      "|            0|       0.0|\n",
      "|            0|       0.0|\n",
      "|            0|       0.0|\n",
      "|            0|       0.0|\n",
      "|            0|       0.0|\n",
      "|            0|       0.0|\n",
      "|            0|       0.0|\n",
      "|            0|       0.0|\n",
      "|            0|       0.0|\n",
      "|            0|       0.0|\n",
      "|            0|       0.0|\n",
      "|            0|       0.0|\n",
      "|            0|       0.0|\n",
      "|            0|       0.0|\n",
      "|            0|       0.0|\n",
      "|            0|       0.0|\n",
      "|            0|       0.0|\n",
      "+-------------+----------+\n",
      "only showing top 20 rows\n",
      "\n"
     ]
    }
   ],
   "source": [
    "results.select('heart_disease','prediction').show()"
   ]
  },
  {
   "cell_type": "code",
   "execution_count": 220,
   "metadata": {},
   "outputs": [
    {
     "data": {
      "text/plain": [
       "0.5004539739320739"
      ]
     },
     "execution_count": 220,
     "metadata": {},
     "output_type": "execute_result"
    }
   ],
   "source": [
    "AUC = my_eval.evaluate(results)\n",
    "\n",
    "AUC"
   ]
  },
  {
   "cell_type": "code",
   "execution_count": 221,
   "metadata": {},
   "outputs": [
    {
     "name": "stdout",
     "output_type": "stream",
     "text": [
      "Correct: 11756\n",
      "Total Correct: 11134\n"
     ]
    }
   ],
   "source": [
    "totalResults = results.select('heart_disease','prediction')\n",
    "\n",
    "correctResults = totalResults.filter(totalResults['heart_disease'] == totalResults['prediction'])\n",
    "\n",
    "countTR = totalResults.count()\n",
    "print(\"Correct: \" + str(countTR))\n",
    "\n",
    "countTC = correctResults.count()\n",
    "print(\"Total Correct: \" + str(countTC)) "
   ]
  },
  {
   "cell_type": "code",
   "execution_count": 222,
   "metadata": {},
   "outputs": [],
   "source": [
    "#Checking accuracy of Tree model(Single decision tree, random forest, Gradient boosted tree) for data mining on the cleaned dataset"
   ]
  },
  {
   "cell_type": "code",
   "execution_count": 223,
   "metadata": {},
   "outputs": [],
   "source": [
    "from pyspark.ml.linalg import Vectors\n",
    "from pyspark.ml.feature import VectorAssembler"
   ]
  },
  {
   "cell_type": "code",
   "execution_count": 224,
   "metadata": {},
   "outputs": [],
   "source": [
    "#varIdxer = StringIndexer(inputCol='gender',outputCol='vargender').fit(clean)\n",
    "#clean = varIdxer.transform(clean)\n",
    "#varIdxer = StringIndexer(inputCol='work_type',outputCol='varworktype').fit(clean)\n",
    "#clean = varIdxer2.transform(clean)\n",
    "#varIdxer = StringIndexer(inputCol='Residence_type',outputCol='varresidencetype').fit(clean)\n",
    "#clean = varIdxer3.transform(clean)\n",
    "#varIdxer = StringIndexer(inputCol='smoking_status',outputCol='varsmokingstatus').fit(clean)\n",
    "#clean = varIdxer4.transform(clean)\n",
    "#varIdxer = StringIndexer(inputCol='ever_married',outputCol='varmarried').fit(clean)\n",
    "#clean = varIdxer5.transform(clean)"
   ]
  },
  {
   "cell_type": "code",
   "execution_count": 225,
   "metadata": {},
   "outputs": [],
   "source": [
    "#clean = OneHotEncoder(inputCol=\"vargender\", outputCol=\"varcatgender\").transform(clean)\n",
    "#clean = OneHotEncoder(inputCol=\"varworktype\", outputCol=\"varcatworktype\").transform(clean)\n",
    "#clean = OneHotEncoder(inputCol=\"varresidencetype\", outputCol=\"varcatresidencetype\").transform(clean)\n",
    "#clean = OneHotEncoder(inputCol=\"varsmokingstatus\", outputCol=\"varcatsmokingstatus\").transform(clean)\n",
    "#clean = OneHotEncoder(inputCol=\"varmarried\", outputCol=\"varcatmarried\").transform(clean)"
   ]
  },
  {
   "cell_type": "code",
   "execution_count": 226,
   "metadata": {},
   "outputs": [],
   "source": [
    "assembler = VectorAssembler(\n",
    "  inputCols=['age',\n",
    "             'bmi',\n",
    "             'avg_glucose_level',\n",
    "             'hypertension','varCatgender','varCatworktype','varCatresidencetype','varCatsmokingstatus','varCatmarried'],\n",
    "              outputCol=\"features1\")"
   ]
  },
  {
   "cell_type": "code",
   "execution_count": 227,
   "metadata": {},
   "outputs": [],
   "source": [
    "output = assembler.transform(clean)"
   ]
  },
  {
   "cell_type": "code",
   "execution_count": 228,
   "metadata": {},
   "outputs": [],
   "source": [
    "from pyspark.ml.feature import StringIndexer"
   ]
  },
  {
   "cell_type": "code",
   "execution_count": 229,
   "metadata": {},
   "outputs": [],
   "source": [
    "indexer = StringIndexer(inputCol=\"heart_disease\", outputCol=\"HeartDiseaseIndex\")\n",
    "output_fixed = indexer.fit(output).transform(output)"
   ]
  },
  {
   "cell_type": "code",
   "execution_count": 230,
   "metadata": {},
   "outputs": [],
   "source": [
    "final_data = output_fixed.select(\"features1\",'HeartDiseaseIndex')"
   ]
  },
  {
   "cell_type": "code",
   "execution_count": 231,
   "metadata": {},
   "outputs": [],
   "source": [
    "train1_data,test1_data = final_data.randomSplit([0.7,0.3])"
   ]
  },
  {
   "cell_type": "code",
   "execution_count": 232,
   "metadata": {},
   "outputs": [],
   "source": [
    "from pyspark.ml.classification import RandomForestClassifier\n",
    "from pyspark.ml import Pipeline"
   ]
  },
  {
   "cell_type": "code",
   "execution_count": 233,
   "metadata": {},
   "outputs": [],
   "source": [
    "rfc = RandomForestClassifier(labelCol='HeartDiseaseIndex',featuresCol='features1',numTrees = 7,maxDepth = 8,impurity = \"gini\",maxBins = 32)\n",
    "rfc1 = RandomForestClassifier(labelCol='HeartDiseaseIndex',featuresCol='features1',numTrees = 1,maxDepth = 2,impurity = \"gini\",maxBins = 32)"
   ]
  },
  {
   "cell_type": "code",
   "execution_count": 234,
   "metadata": {},
   "outputs": [],
   "source": [
    "rfc_model = rfc.fit(train1_data)\n",
    "rfc1_model = rfc1.fit(train1_data)"
   ]
  },
  {
   "cell_type": "code",
   "execution_count": 235,
   "metadata": {},
   "outputs": [],
   "source": [
    "rfc_predictions = rfc_model.transform(test1_data)\n",
    "rfc1_predictions = rfc1_model.transform(test1_data)"
   ]
  },
  {
   "cell_type": "code",
   "execution_count": 236,
   "metadata": {},
   "outputs": [],
   "source": [
    "from pyspark.ml.evaluation import BinaryClassificationEvaluator\n",
    "my_binary_eval = BinaryClassificationEvaluator(labelCol = 'HeartDiseaseIndex')"
   ]
  },
  {
   "cell_type": "code",
   "execution_count": 237,
   "metadata": {},
   "outputs": [],
   "source": [
    "print(\"RFC\")\n",
    "print(my_binary_eval.evaluate(rfc_predictions))\n",
    "print(\"RFC1\")\n",
    "print(my_binary_eval.evaluate(rfc1_predictions))"
   ]
  },
  {
   "cell_type": "code",
   "execution_count": 238,
   "metadata": {},
   "outputs": [],
   "source": [
    "from pyspark.ml.evaluation import MulticlassClassificationEvaluator"
   ]
  },
  {
   "cell_type": "code",
   "execution_count": 239,
   "metadata": {},
   "outputs": [],
   "source": [
    "acc_evaluator = MulticlassClassificationEvaluator(labelCol=\"HeartDiseaseIndex\", predictionCol=\"prediction\", metricName=\"accuracy\")"
   ]
  },
  {
   "cell_type": "code",
   "execution_count": 240,
   "metadata": {},
   "outputs": [],
   "source": [
    "rfc_acc = acc_evaluator.evaluate(rfc_predictions)\n",
    "rfc1_acc = acc_evaluator.evaluate(rfc1_predictions)"
   ]
  },
  {
   "cell_type": "code",
   "execution_count": 241,
   "metadata": {},
   "outputs": [],
   "source": [
    "print('-'*40)\n",
    "print('A random forest for iteration 1 ensemble has an accuracy of: {0:2.2f}%'.format(rfc_acc*100))\n",
    "print('-'*40)\n",
    "print('A random forest for iteration 2 ensemble has an accuracy of: {0:2.2f}%'.format(rfc1_acc*100))"
   ]
  },
  {
   "cell_type": "code",
   "execution_count": 242,
   "metadata": {},
   "outputs": [],
   "source": [
    "rfc_predictions.show()\n",
    "rfc_predictions.show()"
   ]
  }
 ],
 "metadata": {
  "kernelspec": {
   "display_name": "Python 3",
   "language": "python",
   "name": "python3"
  },
  "language_info": {
   "codemirror_mode": {
    "name": "ipython",
    "version": 3
   },
   "file_extension": ".py",
   "mimetype": "text/x-python",
   "name": "python",
   "nbconvert_exporter": "python",
   "pygments_lexer": "ipython3",
   "version": "3.5.2"
  }
 },
 "nbformat": 4,
 "nbformat_minor": 2
}
