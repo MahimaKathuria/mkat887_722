{
 "cells": [
  {
   "cell_type": "code",
   "execution_count": 1,
   "metadata": {},
   "outputs": [],
   "source": [
    "import findspark\n",
    "findspark.init('/home/ubuntu/spark-2.1.1-bin-hadoop2.7')\n",
    "import pyspark\n",
    "from pyspark.sql import SparkSession\n",
    "spark = SparkSession.builder.appName('operations').getOrCreate()"
   ]
  },
  {
   "cell_type": "code",
   "execution_count": 2,
   "metadata": {},
   "outputs": [
    {
     "name": "stdout",
     "output_type": "stream",
     "text": [
      "root\n",
      " |-- id: integer (nullable = true)\n",
      " |-- gender: string (nullable = true)\n",
      " |-- age: double (nullable = true)\n",
      " |-- hypertension: integer (nullable = true)\n",
      " |-- heart_disease: integer (nullable = true)\n",
      " |-- ever_married: string (nullable = true)\n",
      " |-- work_type: string (nullable = true)\n",
      " |-- Residence_type: string (nullable = true)\n",
      " |-- avg_glucose_level: double (nullable = true)\n",
      " |-- bmi: double (nullable = true)\n",
      " |-- smoking_status: string (nullable = true)\n",
      "\n",
      "root\n",
      " |-- id: integer (nullable = true)\n",
      " |-- gender: string (nullable = true)\n",
      " |-- age: double (nullable = true)\n",
      " |-- hypertension: integer (nullable = true)\n",
      " |-- heart_disease: integer (nullable = true)\n",
      " |-- ever_married: string (nullable = true)\n",
      " |-- work_type: string (nullable = true)\n",
      " |-- Residence_type: string (nullable = true)\n",
      " |-- avg_glucose_level: double (nullable = true)\n",
      " |-- bmi: double (nullable = true)\n",
      " |-- smoking_status: string (nullable = true)\n",
      "\n"
     ]
    }
   ],
   "source": [
    "dataset1 = spark.read.csv('Datasets/traindataset.csv', inferSchema=True, header=True)\n",
    "dataset2 = spark.read.csv('Datasets/testdataset.csv', inferSchema=True, header=True)\n",
    "dataset1.printSchema()\n",
    "dataset2.printSchema()"
   ]
  },
  {
   "cell_type": "code",
   "execution_count": 3,
   "metadata": {},
   "outputs": [
    {
     "name": "stdout",
     "output_type": "stream",
     "text": [
      "+-----+------+----+------------+-------------+------------+-------------+--------------+-----------------+----+---------------+\n",
      "|   id|gender| age|hypertension|heart_disease|ever_married|    work_type|Residence_type|avg_glucose_level| bmi| smoking_status|\n",
      "+-----+------+----+------------+-------------+------------+-------------+--------------+-----------------+----+---------------+\n",
      "|30669|  Male| 3.0|           0|            0|          No|     children|         Rural|            95.12|18.0|           null|\n",
      "|30468|  Male|58.0|           1|            0|         Yes|      Private|         Urban|            87.96|39.2|   never smoked|\n",
      "|16523|Female| 8.0|           0|            0|          No|      Private|         Urban|           110.89|17.6|           null|\n",
      "|56543|Female|70.0|           0|            0|         Yes|      Private|         Rural|            69.04|35.9|formerly smoked|\n",
      "|46136|  Male|14.0|           0|            0|          No| Never_worked|         Rural|           161.28|19.1|           null|\n",
      "|32257|Female|47.0|           0|            0|         Yes|      Private|         Urban|           210.95|50.1|           null|\n",
      "|52800|Female|52.0|           0|            0|         Yes|      Private|         Urban|            77.59|17.7|formerly smoked|\n",
      "|41413|Female|75.0|           0|            1|         Yes|Self-employed|         Rural|           243.53|27.0|   never smoked|\n",
      "|15266|Female|32.0|           0|            0|         Yes|      Private|         Rural|            77.67|32.3|         smokes|\n",
      "|28674|Female|74.0|           1|            0|         Yes|Self-employed|         Urban|           205.84|54.6|   never smoked|\n",
      "|10460|Female|79.0|           0|            0|         Yes|     Govt_job|         Urban|            77.08|35.0|           null|\n",
      "|64908|  Male|79.0|           0|            1|         Yes|      Private|         Urban|            57.08|22.0|formerly smoked|\n",
      "|63884|Female|37.0|           0|            0|         Yes|      Private|         Rural|           162.96|39.4|   never smoked|\n",
      "|37893|Female|37.0|           0|            0|         Yes|      Private|         Rural|             73.5|26.1|formerly smoked|\n",
      "|67855|Female|40.0|           0|            0|         Yes|      Private|         Rural|            95.04|42.4|   never smoked|\n",
      "|25774|  Male|35.0|           0|            0|          No|      Private|         Rural|            85.37|33.0|   never smoked|\n",
      "|19584|Female|20.0|           0|            0|          No|      Private|         Urban|            84.62|19.7|         smokes|\n",
      "|24447|Female|42.0|           0|            0|         Yes|      Private|         Rural|            82.67|22.5|   never smoked|\n",
      "|49589|Female|44.0|           0|            0|         Yes|     Govt_job|         Urban|            57.33|24.6|         smokes|\n",
      "|17986|Female|79.0|           0|            1|         Yes|Self-employed|         Urban|            67.84|25.2|         smokes|\n",
      "+-----+------+----+------------+-------------+------------+-------------+--------------+-----------------+----+---------------+\n",
      "only showing top 20 rows\n",
      "\n",
      "+-----+------+----+------------+-------------+------------+-------------+--------------+-----------------+----+---------------+\n",
      "|   id|gender| age|hypertension|heart_disease|ever_married|    work_type|Residence_type|avg_glucose_level| bmi| smoking_status|\n",
      "+-----+------+----+------------+-------------+------------+-------------+--------------+-----------------+----+---------------+\n",
      "|36306|  Male|80.0|           0|            0|         Yes|      Private|         Urban|            83.84|21.1|formerly smoked|\n",
      "|61829|Female|74.0|           0|            1|         Yes|Self-employed|         Rural|            179.5|26.0|formerly smoked|\n",
      "|14152|Female|14.0|           0|            0|          No|     children|         Rural|            95.16|21.2|           null|\n",
      "|12997|  Male|28.0|           0|            0|          No|      Private|         Urban|            94.76|23.4|           null|\n",
      "|40801|Female|63.0|           0|            0|         Yes|     Govt_job|         Rural|            83.57|27.6|   never smoked|\n",
      "| 9348|Female|66.0|           1|            0|         Yes|      Private|         Urban|           219.98|32.2|   never smoked|\n",
      "|51550|Female|49.0|           0|            0|         Yes|Self-employed|         Rural|            74.03|25.1|           null|\n",
      "|60512|  Male|46.0|           0|            0|         Yes|     Govt_job|         Urban|            120.8|32.5|   never smoked|\n",
      "|31309|Female|75.0|           0|            0|         Yes|Self-employed|         Rural|            78.71|28.0|   never smoked|\n",
      "|39199|  Male|75.0|           0|            0|         Yes|Self-employed|         Urban|             77.2|25.7|         smokes|\n",
      "|15160|Female|17.0|           0|            0|          No|      Private|         Rural|            78.16|21.9|           null|\n",
      "|21705|Female|10.0|           0|            0|          No|     children|         Urban|           107.23|19.4|           null|\n",
      "|19042|Female|47.0|           0|            0|         Yes|      Private|         Rural|             91.6|26.7|   never smoked|\n",
      "|12249|Female|42.0|           0|            0|         Yes|      Private|         Urban|            83.05|32.3|           null|\n",
      "|33104|Female|67.0|           0|            0|         Yes|     Govt_job|         Urban|            236.6|24.2|   never smoked|\n",
      "|55264|Female|52.0|           0|            0|          No|Self-employed|         Urban|           109.49|24.5|   never smoked|\n",
      "|29445|  Male|73.0|           0|            0|         Yes|Self-employed|         Rural|           109.66|40.0|           null|\n",
      "|49013|Female|19.0|           0|            0|          No|      Private|         Rural|            88.51|22.1|           null|\n",
      "|  276|  Male|15.0|           0|            0|          No|     children|         Rural|           101.36|22.3|           null|\n",
      "|47721|Female|37.0|           0|            0|         Yes|     Govt_job|         Urban|           165.44|36.1|formerly smoked|\n",
      "+-----+------+----+------------+-------------+------------+-------------+--------------+-----------------+----+---------------+\n",
      "only showing top 20 rows\n",
      "\n"
     ]
    }
   ],
   "source": [
    "dataset1.show()\n",
    "dataset2.show()"
   ]
  },
  {
   "cell_type": "code",
   "execution_count": 4,
   "metadata": {},
   "outputs": [
    {
     "data": {
      "text/plain": [
       "43400"
      ]
     },
     "execution_count": 4,
     "metadata": {},
     "output_type": "execute_result"
    }
   ],
   "source": [
    "dataset1.count()"
   ]
  },
  {
   "cell_type": "code",
   "execution_count": 5,
   "metadata": {},
   "outputs": [
    {
     "data": {
      "text/plain": [
       "11"
      ]
     },
     "execution_count": 5,
     "metadata": {},
     "output_type": "execute_result"
    }
   ],
   "source": [
    "len(dataset1.columns)"
   ]
  },
  {
   "cell_type": "code",
   "execution_count": 6,
   "metadata": {},
   "outputs": [
    {
     "data": {
      "text/plain": [
       "18601"
      ]
     },
     "execution_count": 6,
     "metadata": {},
     "output_type": "execute_result"
    }
   ],
   "source": [
    "dataset2.count()"
   ]
  },
  {
   "cell_type": "code",
   "execution_count": 7,
   "metadata": {},
   "outputs": [
    {
     "data": {
      "text/plain": [
       "11"
      ]
     },
     "execution_count": 7,
     "metadata": {},
     "output_type": "execute_result"
    }
   ],
   "source": [
    "len(dataset2.columns)"
   ]
  },
  {
   "cell_type": "code",
   "execution_count": 8,
   "metadata": {},
   "outputs": [
    {
     "name": "stdout",
     "output_type": "stream",
     "text": [
      "+-----+------+----+------------+-------------+------------+-------------+--------------+-----------------+----+---------------+\n",
      "|   id|gender| age|hypertension|heart_disease|ever_married|    work_type|Residence_type|avg_glucose_level| bmi| smoking_status|\n",
      "+-----+------+----+------------+-------------+------------+-------------+--------------+-----------------+----+---------------+\n",
      "|30669|  Male| 3.0|           0|            0|          No|     children|         Rural|            95.12|18.0|           null|\n",
      "|30468|  Male|58.0|           1|            0|         Yes|      Private|         Urban|            87.96|39.2|   never smoked|\n",
      "|16523|Female| 8.0|           0|            0|          No|      Private|         Urban|           110.89|17.6|           null|\n",
      "|56543|Female|70.0|           0|            0|         Yes|      Private|         Rural|            69.04|35.9|formerly smoked|\n",
      "|46136|  Male|14.0|           0|            0|          No| Never_worked|         Rural|           161.28|19.1|           null|\n",
      "|32257|Female|47.0|           0|            0|         Yes|      Private|         Urban|           210.95|50.1|           null|\n",
      "|52800|Female|52.0|           0|            0|         Yes|      Private|         Urban|            77.59|17.7|formerly smoked|\n",
      "|41413|Female|75.0|           0|            1|         Yes|Self-employed|         Rural|           243.53|27.0|   never smoked|\n",
      "|15266|Female|32.0|           0|            0|         Yes|      Private|         Rural|            77.67|32.3|         smokes|\n",
      "|28674|Female|74.0|           1|            0|         Yes|Self-employed|         Urban|           205.84|54.6|   never smoked|\n",
      "|10460|Female|79.0|           0|            0|         Yes|     Govt_job|         Urban|            77.08|35.0|           null|\n",
      "|64908|  Male|79.0|           0|            1|         Yes|      Private|         Urban|            57.08|22.0|formerly smoked|\n",
      "|63884|Female|37.0|           0|            0|         Yes|      Private|         Rural|           162.96|39.4|   never smoked|\n",
      "|37893|Female|37.0|           0|            0|         Yes|      Private|         Rural|             73.5|26.1|formerly smoked|\n",
      "|67855|Female|40.0|           0|            0|         Yes|      Private|         Rural|            95.04|42.4|   never smoked|\n",
      "|25774|  Male|35.0|           0|            0|          No|      Private|         Rural|            85.37|33.0|   never smoked|\n",
      "|19584|Female|20.0|           0|            0|          No|      Private|         Urban|            84.62|19.7|         smokes|\n",
      "|24447|Female|42.0|           0|            0|         Yes|      Private|         Rural|            82.67|22.5|   never smoked|\n",
      "|49589|Female|44.0|           0|            0|         Yes|     Govt_job|         Urban|            57.33|24.6|         smokes|\n",
      "|17986|Female|79.0|           0|            1|         Yes|Self-employed|         Urban|            67.84|25.2|         smokes|\n",
      "+-----+------+----+------------+-------------+------------+-------------+--------------+-----------------+----+---------------+\n",
      "only showing top 20 rows\n",
      "\n"
     ]
    }
   ],
   "source": [
    "concat = dataset1.union(dataset2)\n",
    "concat.show()"
   ]
  },
  {
   "cell_type": "code",
   "execution_count": 9,
   "metadata": {},
   "outputs": [
    {
     "data": {
      "text/plain": [
       "62001"
      ]
     },
     "execution_count": 9,
     "metadata": {},
     "output_type": "execute_result"
    }
   ],
   "source": [
    "concat.count()"
   ]
  },
  {
   "cell_type": "code",
   "execution_count": 10,
   "metadata": {},
   "outputs": [
    {
     "data": {
      "text/plain": [
       "11"
      ]
     },
     "execution_count": 10,
     "metadata": {},
     "output_type": "execute_result"
    }
   ],
   "source": [
    "len(concat.columns)"
   ]
  },
  {
   "cell_type": "code",
   "execution_count": 11,
   "metadata": {},
   "outputs": [
    {
     "name": "stdout",
     "output_type": "stream",
     "text": [
      "+------+-----+\n",
      "|gender|count|\n",
      "+------+-----+\n",
      "|Female|36622|\n",
      "| Other|   13|\n",
      "|  Male|25366|\n",
      "+------+-----+\n",
      "\n"
     ]
    }
   ],
   "source": [
    "concat.groupby('gender').count().show()"
   ]
  },
  {
   "cell_type": "code",
   "execution_count": 12,
   "metadata": {},
   "outputs": [
    {
     "name": "stdout",
     "output_type": "stream",
     "text": [
      "+------------+-----+\n",
      "|hypertension|count|\n",
      "+------------+-----+\n",
      "|           1| 5794|\n",
      "|           0|56207|\n",
      "+------------+-----+\n",
      "\n"
     ]
    }
   ],
   "source": [
    "concat.groupby('hypertension').count().show()"
   ]
  },
  {
   "cell_type": "code",
   "execution_count": 13,
   "metadata": {},
   "outputs": [
    {
     "name": "stdout",
     "output_type": "stream",
     "text": [
      "+-------------+-----+\n",
      "|    work_type|count|\n",
      "+-------------+-----+\n",
      "| Never_worked|  252|\n",
      "|Self-employed| 9654|\n",
      "|      Private|35584|\n",
      "|     children| 8769|\n",
      "|     Govt_job| 7742|\n",
      "+-------------+-----+\n",
      "\n"
     ]
    }
   ],
   "source": [
    "concat.groupby('work_type').count().show()"
   ]
  },
  {
   "cell_type": "code",
   "execution_count": 14,
   "metadata": {},
   "outputs": [
    {
     "name": "stdout",
     "output_type": "stream",
     "text": [
      "+--------------+-----+\n",
      "|residence_type|count|\n",
      "+--------------+-----+\n",
      "|         Urban|31066|\n",
      "|         Rural|30935|\n",
      "+--------------+-----+\n",
      "\n"
     ]
    }
   ],
   "source": [
    "concat.groupby('residence_type').count().show()"
   ]
  },
  {
   "cell_type": "code",
   "execution_count": 15,
   "metadata": {},
   "outputs": [
    {
     "name": "stdout",
     "output_type": "stream",
     "text": [
      "+------------+-----+\n",
      "|ever_married|count|\n",
      "+------------+-----+\n",
      "|          No|22124|\n",
      "|         Yes|39877|\n",
      "+------------+-----+\n",
      "\n"
     ]
    }
   ],
   "source": [
    "concat.groupby('ever_married').count().show()"
   ]
  },
  {
   "cell_type": "code",
   "execution_count": 16,
   "metadata": {},
   "outputs": [
    {
     "name": "stdout",
     "output_type": "stream",
     "text": [
      "+---------------+-----+\n",
      "| smoking_status|count|\n",
      "+---------------+-----+\n",
      "|           null|19043|\n",
      "|         smokes| 9319|\n",
      "|   never smoked|22886|\n",
      "|formerly smoked|10753|\n",
      "+---------------+-----+\n",
      "\n"
     ]
    }
   ],
   "source": [
    "concat.groupby('smoking_status').count().show()"
   ]
  },
  {
   "cell_type": "code",
   "execution_count": 17,
   "metadata": {},
   "outputs": [
    {
     "name": "stdout",
     "output_type": "stream",
     "text": [
      "+-------------+-----+\n",
      "|heart_disease|count|\n",
      "+-------------+-----+\n",
      "|            1| 2956|\n",
      "|            0|59045|\n",
      "+-------------+-----+\n",
      "\n"
     ]
    }
   ],
   "source": [
    "concat.groupby('heart_disease').count().show()"
   ]
  },
  {
   "cell_type": "code",
   "execution_count": 18,
   "metadata": {},
   "outputs": [
    {
     "name": "stdout",
     "output_type": "stream",
     "text": [
      "+-------+-----------------+------+------------------+-------------------+-------------------+------------+---------+--------------+-----------------+-----------------+---------------+\n",
      "|summary|               id|gender|               age|       hypertension|      heart_disease|ever_married|work_type|Residence_type|avg_glucose_level|              bmi| smoking_status|\n",
      "+-------+-----------------+------+------------------+-------------------+-------------------+------------+---------+--------------+-----------------+-----------------+---------------+\n",
      "|  count|            62001| 62001|             62001|              62001|              62001|       62001|    62001|         62001|            62001|            59948|          42958|\n",
      "|   mean|36452.51481427719|  null|42.169475331042975|0.09345010564345736|0.04767665037660683|        null|     null|          null| 104.453831712391| 28.5870988189766|           null|\n",
      "| stddev|21067.15594488889|  null|22.522099535371346| 0.2910645114143387|0.21308289396711122|        null|     null|          null| 42.9605371949353|7.766122190731495|           null|\n",
      "|    min|                1|Female|              0.08|                  0|                  0|          No| Govt_job|         Rural|             55.0|             10.1|formerly smoked|\n",
      "|    max|            72943| Other|              82.0|                  1|                  1|         Yes| children|         Urban|           291.05|             97.6|         smokes|\n",
      "+-------+-----------------+------+------------------+-------------------+-------------------+------------+---------+--------------+-----------------+-----------------+---------------+\n",
      "\n"
     ]
    }
   ],
   "source": [
    "concat.describe().show()"
   ]
  },
  {
   "cell_type": "code",
   "execution_count": 19,
   "metadata": {},
   "outputs": [
    {
     "name": "stdout",
     "output_type": "stream",
     "text": [
      "+--------------------+-----+----+\n",
      "|gender_heart_disease|    0|   1|\n",
      "+--------------------+-----+----+\n",
      "|               Other|   13|   0|\n",
      "|                Male|23606|1760|\n",
      "|              Female|35426|1196|\n",
      "+--------------------+-----+----+\n",
      "\n"
     ]
    }
   ],
   "source": [
    "concat.crosstab('gender', 'heart_disease').show()"
   ]
  },
  {
   "cell_type": "code",
   "execution_count": 20,
   "metadata": {},
   "outputs": [
    {
     "name": "stdout",
     "output_type": "stream",
     "text": [
      "+----------------------------+-----+---+\n",
      "|smoking_status_heart_disease|    0|  1|\n",
      "+----------------------------+-----+---+\n",
      "|             formerly smoked| 9818|935|\n",
      "|                      smokes| 8713|606|\n",
      "|                never smoked|22024|862|\n",
      "|                        null|18490|553|\n",
      "+----------------------------+-----+---+\n",
      "\n"
     ]
    }
   ],
   "source": [
    "concat.crosstab('smoking_status', 'heart_disease').show()"
   ]
  },
  {
   "cell_type": "code",
   "execution_count": 21,
   "metadata": {},
   "outputs": [
    {
     "name": "stdout",
     "output_type": "stream",
     "text": [
      "+--------------------------+-----+----+\n",
      "|ever_married_heart_disease|    0|   1|\n",
      "+--------------------------+-----+----+\n",
      "|                        No|21893| 231|\n",
      "|                       Yes|37152|2725|\n",
      "+--------------------------+-----+----+\n",
      "\n"
     ]
    }
   ],
   "source": [
    "concat.crosstab('ever_married', 'heart_disease').show()"
   ]
  },
  {
   "cell_type": "code",
   "execution_count": 22,
   "metadata": {},
   "outputs": [
    {
     "name": "stdout",
     "output_type": "stream",
     "text": [
      "+-----------------------+-----+----+\n",
      "|work_type_heart_disease|    0|   1|\n",
      "+-----------------------+-----+----+\n",
      "|               children| 8765|   4|\n",
      "|           Never_worked|  251|   1|\n",
      "|          Self-employed| 8718| 936|\n",
      "|                Private|33946|1638|\n",
      "|               Govt_job| 7365| 377|\n",
      "+-----------------------+-----+----+\n",
      "\n"
     ]
    }
   ],
   "source": [
    "concat.crosstab('work_type', 'heart_disease').show()"
   ]
  },
  {
   "cell_type": "code",
   "execution_count": 23,
   "metadata": {},
   "outputs": [
    {
     "name": "stdout",
     "output_type": "stream",
     "text": [
      "+----------------------------+-----+----+\n",
      "|residence_type_heart_disease|    0|   1|\n",
      "+----------------------------+-----+----+\n",
      "|                       Rural|29441|1494|\n",
      "|                       Urban|29604|1462|\n",
      "+----------------------------+-----+----+\n",
      "\n"
     ]
    }
   ],
   "source": [
    "concat.crosstab('residence_type', 'heart_disease').show()"
   ]
  },
  {
   "cell_type": "code",
   "execution_count": 24,
   "metadata": {},
   "outputs": [
    {
     "name": "stdout",
     "output_type": "stream",
     "text": [
      "+--------------------------+-----+----+\n",
      "|hypertension_heart_disease|    0|   1|\n",
      "+--------------------------+-----+----+\n",
      "|                         1| 5040| 754|\n",
      "|                         0|54005|2202|\n",
      "+--------------------------+-----+----+\n",
      "\n"
     ]
    }
   ],
   "source": [
    "concat.crosstab('hypertension', 'heart_disease').show()"
   ]
  },
  {
   "cell_type": "code",
   "execution_count": 25,
   "metadata": {},
   "outputs": [
    {
     "data": {
      "text/plain": [
       "['gender',\n",
       " 'age',\n",
       " 'hypertension',\n",
       " 'heart_disease',\n",
       " 'ever_married',\n",
       " 'work_type',\n",
       " 'Residence_type',\n",
       " 'avg_glucose_level',\n",
       " 'bmi',\n",
       " 'smoking_status']"
      ]
     },
     "execution_count": 25,
     "metadata": {},
     "output_type": "execute_result"
    }
   ],
   "source": [
    "concat.drop('id').columns"
   ]
  },
  {
   "cell_type": "code",
   "execution_count": 26,
   "metadata": {},
   "outputs": [],
   "source": [
    "from pyspark.sql.functions import col,sum"
   ]
  },
  {
   "cell_type": "code",
   "execution_count": 27,
   "metadata": {},
   "outputs": [
    {
     "name": "stdout",
     "output_type": "stream",
     "text": [
      "+---+------+---+------------+-------------+------------+---------+--------------+-----------------+----+--------------+\n",
      "| id|gender|age|hypertension|heart_disease|ever_married|work_type|Residence_type|avg_glucose_level| bmi|smoking_status|\n",
      "+---+------+---+------------+-------------+------------+---------+--------------+-----------------+----+--------------+\n",
      "|  0|     0|  0|           0|            0|           0|        0|             0|                0|2053|         19043|\n",
      "+---+------+---+------------+-------------+------------+---------+--------------+-----------------+----+--------------+\n",
      "\n"
     ]
    }
   ],
   "source": [
    "concat.select(*(sum(col(c).isNull().cast(\"int\")).alias(c) for c in concat.columns)).show()"
   ]
  },
  {
   "cell_type": "code",
   "execution_count": 28,
   "metadata": {},
   "outputs": [
    {
     "data": {
      "text/plain": [
       "41495"
      ]
     },
     "execution_count": 28,
     "metadata": {},
     "output_type": "execute_result"
    }
   ],
   "source": [
    "concat.dropna().count()"
   ]
  },
  {
   "cell_type": "code",
   "execution_count": 29,
   "metadata": {},
   "outputs": [
    {
     "name": "stdout",
     "output_type": "stream",
     "text": [
      "+------+----+------------+-------------+------------+-------------+--------------+-----------------+----+---------------+\n",
      "|gender| age|hypertension|heart_disease|ever_married|    work_type|Residence_type|avg_glucose_level| bmi| smoking_status|\n",
      "+------+----+------------+-------------+------------+-------------+--------------+-----------------+----+---------------+\n",
      "|  Male| 3.0|           0|            0|          No|     children|         Rural|            95.12|18.0|           null|\n",
      "|  Male|58.0|           1|            0|         Yes|      Private|         Urban|            87.96|39.2|   never smoked|\n",
      "|Female| 8.0|           0|            0|          No|      Private|         Urban|           110.89|17.6|           null|\n",
      "|Female|70.0|           0|            0|         Yes|      Private|         Rural|            69.04|35.9|formerly smoked|\n",
      "|  Male|14.0|           0|            0|          No| Never_worked|         Rural|           161.28|19.1|           null|\n",
      "|Female|47.0|           0|            0|         Yes|      Private|         Urban|           210.95|50.1|           null|\n",
      "|Female|52.0|           0|            0|         Yes|      Private|         Urban|            77.59|17.7|formerly smoked|\n",
      "|Female|75.0|           0|            1|         Yes|Self-employed|         Rural|           243.53|27.0|   never smoked|\n",
      "|Female|32.0|           0|            0|         Yes|      Private|         Rural|            77.67|32.3|         smokes|\n",
      "|Female|74.0|           1|            0|         Yes|Self-employed|         Urban|           205.84|54.6|   never smoked|\n",
      "|Female|79.0|           0|            0|         Yes|     Govt_job|         Urban|            77.08|35.0|           null|\n",
      "|  Male|79.0|           0|            1|         Yes|      Private|         Urban|            57.08|22.0|formerly smoked|\n",
      "|Female|37.0|           0|            0|         Yes|      Private|         Rural|           162.96|39.4|   never smoked|\n",
      "|Female|37.0|           0|            0|         Yes|      Private|         Rural|             73.5|26.1|formerly smoked|\n",
      "|Female|40.0|           0|            0|         Yes|      Private|         Rural|            95.04|42.4|   never smoked|\n",
      "|  Male|35.0|           0|            0|          No|      Private|         Rural|            85.37|33.0|   never smoked|\n",
      "|Female|20.0|           0|            0|          No|      Private|         Urban|            84.62|19.7|         smokes|\n",
      "|Female|42.0|           0|            0|         Yes|      Private|         Rural|            82.67|22.5|   never smoked|\n",
      "|Female|44.0|           0|            0|         Yes|     Govt_job|         Urban|            57.33|24.6|         smokes|\n",
      "|Female|79.0|           0|            1|         Yes|Self-employed|         Urban|            67.84|25.2|         smokes|\n",
      "+------+----+------------+-------------+------------+-------------+--------------+-----------------+----+---------------+\n",
      "only showing top 20 rows\n",
      "\n"
     ]
    }
   ],
   "source": [
    "concat.select('gender','age','hypertension','heart_disease','ever_married','work_type','Residence_type','avg_glucose_level','bmi','smoking_status').show()"
   ]
  },
  {
   "cell_type": "code",
   "execution_count": null,
   "metadata": {},
   "outputs": [],
   "source": []
  }
 ],
 "metadata": {
  "kernelspec": {
   "display_name": "Python 3",
   "language": "python",
   "name": "python3"
  },
  "language_info": {
   "codemirror_mode": {
    "name": "ipython",
    "version": 3
   },
   "file_extension": ".py",
   "mimetype": "text/x-python",
   "name": "python",
   "nbconvert_exporter": "python",
   "pygments_lexer": "ipython3",
   "version": "3.5.2"
  }
 },
 "nbformat": 4,
 "nbformat_minor": 2
}
